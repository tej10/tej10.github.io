{
 "cells": [
  {
   "cell_type": "markdown",
   "metadata": {},
   "source": [
    "# Getting text from corpus"
   ]
  },
  {
   "cell_type": "code",
   "execution_count": 19,
   "metadata": {},
   "outputs": [],
   "source": [
    "#IMPORTS\n",
    "import nltk \n",
    "from nltk.stem import PorterStemmer \n",
    "from nltk.corpus import nps_chat"
   ]
  },
  {
   "cell_type": "code",
   "execution_count": 20,
   "metadata": {},
   "outputs": [
    {
     "data": {
      "text/plain": [
       "['10-19-20s_706posts.xml',\n",
       " '10-19-30s_705posts.xml',\n",
       " '10-19-40s_686posts.xml',\n",
       " '10-19-adults_706posts.xml',\n",
       " '10-24-40s_706posts.xml',\n",
       " '10-26-teens_706posts.xml',\n",
       " '11-06-adults_706posts.xml',\n",
       " '11-08-20s_705posts.xml',\n",
       " '11-08-40s_706posts.xml',\n",
       " '11-08-adults_705posts.xml',\n",
       " '11-08-teens_706posts.xml',\n",
       " '11-09-20s_706posts.xml',\n",
       " '11-09-40s_706posts.xml',\n",
       " '11-09-adults_706posts.xml',\n",
       " '11-09-teens_706posts.xml']"
      ]
     },
     "execution_count": 20,
     "metadata": {},
     "output_type": "execute_result"
    }
   ],
   "source": [
    "#FIELDS IN nps_chat CORPUS\n",
    "nps_chat.fileids()[:50]\n"
   ]
  },
  {
   "cell_type": "code",
   "execution_count": 21,
   "metadata": {},
   "outputs": [
    {
     "data": {
      "text/plain": [
       "15"
      ]
     },
     "execution_count": 21,
     "metadata": {},
     "output_type": "execute_result"
    }
   ],
   "source": [
    "#length of corpus \n",
    "len(nps_chat.fileids())\n"
   ]
  },
  {
   "cell_type": "code",
   "execution_count": 22,
   "metadata": {},
   "outputs": [],
   "source": [
    "#we are taking reviews from nps_chat corpus \n",
    "chattext = nps_chat.words('11-08-adults_705posts.xml')\n"
   ]
  },
  {
   "cell_type": "code",
   "execution_count": 23,
   "metadata": {},
   "outputs": [
    {
     "data": {
      "text/plain": [
       "3063"
      ]
     },
     "execution_count": 23,
     "metadata": {},
     "output_type": "execute_result"
    }
   ],
   "source": [
    "#length of our text file \n",
    "len(chattext)\n"
   ]
  },
  {
   "cell_type": "code",
   "execution_count": 24,
   "metadata": {},
   "outputs": [
    {
     "data": {
      "text/plain": [
       "['JOIN', 'U13', ',', 'welcome', 'to', ...]"
      ]
     },
     "execution_count": 24,
     "metadata": {},
     "output_type": "execute_result"
    }
   ],
   "source": [
    "chattext"
   ]
  },
  {
   "cell_type": "code",
   "execution_count": 25,
   "metadata": {},
   "outputs": [],
   "source": [
    "#frequency distribution \n",
    "fdist = nltk.FreqDist(w.lower() for w in chattext)\n"
   ]
  },
  {
   "cell_type": "code",
   "execution_count": 26,
   "metadata": {},
   "outputs": [
    {
     "data": {
      "text/plain": [
       "FreqDist({'join': 87, 'part': 82, 'i': 80, '.': 67, 'you': 55, 'to': 54, 'the': 50, '..': 46, '?': 39, 'it': 38, ...})"
      ]
     },
     "execution_count": 26,
     "metadata": {},
     "output_type": "execute_result"
    }
   ],
   "source": [
    "fdist"
   ]
  },
  {
   "cell_type": "code",
   "execution_count": 27,
   "metadata": {},
   "outputs": [
    {
     "data": {
      "text/plain": [
       "FreqDist({'about': 12, 'Paxil': 7, 'wanna': 7, 'would': 6, 'thats': 6, ')))))': 6, 'sucks': 6, 'where': 6, 'jesus': 6, 'makes': 5, ...})"
      ]
     },
     "execution_count": 27,
     "metadata": {},
     "output_type": "execute_result"
    }
   ],
   "source": [
    "#conditional frequency distribution \n",
    "from nltk.probability import ConditionalFreqDist \n",
    "cfd=ConditionalFreqDist((len(word),word) for word in chattext) \n",
    "cfd[5]\n"
   ]
  },
  {
   "cell_type": "code",
   "execution_count": 28,
   "metadata": {},
   "outputs": [
    {
     "data": {
      "text/plain": [
       "FreqDist({'.': 67, 'i': 54, '?': 39, 'a': 33, ',': 28, 'I': 26, '!': 23, 'u': 18, '4': 8, '2': 6, ...})"
      ]
     },
     "execution_count": 28,
     "metadata": {},
     "output_type": "execute_result"
    }
   ],
   "source": [
    "cfd[1]"
   ]
  },
  {
   "cell_type": "markdown",
   "metadata": {},
   "source": [
    "# Tokenising & pos tagging"
   ]
  },
  {
   "cell_type": "code",
   "execution_count": 29,
   "metadata": {},
   "outputs": [
    {
     "name": "stdout",
     "output_type": "stream",
     "text": [
      "['JOIN U13 , welcome to #talkcity_adults !', '.', '4 Please ask in the main room before Private Messaging others !.', 'You can find our rules at http Thanks for joining us !', 'no rain here .. for a change LOL .', 'ACTION rubs her aching belly .', 'suppose to be sunny and 75 tomorrow LMAO i love garlic NOTICE U13 to #talkcity_adults , To get your own game / control bot for your chat room please contact Dawnstar Visit http://www.shadowbots.com Paxil is helping me , U70 .', 'PART this edmonton / detroit game is goin to shit HI ROOM my family says it made me skin and bones PART JOIN PART JOIN HOW R U ALL DOING 2DAY may i pm you U7 ?', 'gawd i need meds that would make me skin and bones LOL sure U69 no need to yell U19 what do you weigh now U70 .... 93 lbs soakin wet ?', 'really ????', 'I talked to someone else who says she gained 30 lbs while on paxil !', 'Great till you busted caps on mah eyes mang thats good U56 , it helped me too U56 but when i didnt take it which is now ~ u cant sleep eat , live Paxil = danger !', \"breathe ' YES U8 .\", \"ACTION smewchies U3 's eyes to make him feel better .\", 'JOIN hi .. U3 PART Hi U24 hi U3 JOIN thats why im drinking away the withdrawal who did what to your eyes ?', '.', \"12 (((((.. 4 U46 .. 12 ))))) anyone else from tennesee here ty U35 better SSRI 's out there girl PART JOIN well .. you 've gotta deal with the issues that caused your depression in the first place .. antidepressants are n't a cure .. they 're just meant to help you while you deal with the real problem awww U3 you know i lubbs ya honey :) JOIN ohh .. withdrawl .. heyyyyyyyyy U78 :) hey U78 are n't you supposed to wean yourself off ?\", 'i need meds like that now U56 JOIN hiya U35 JOIN hi U30 Paxil yes ... yea well nobody is gonna bring back my ex who died and those pills cost too much JOIN Paxil can be horrid yeah , U35 ..', 'I just started Paxil .. JOIN uh oh .. PART PART did u take it U8 awww U70 i am so sorry honey :( try Zoloft or Wellbutrin ( sp ? )', \"PART PART no I had a roomate who did though i tried those too U8 PART just knocked her out OK - can someone kick U66 for making obscene suggestions in pm - and if u like I 'll post it in the room so we can all point and laugh at the moron is not on any meds neysa left bruises on me PART lol how are you U46 chica ?\", 'thats what it DOES Wellbutrin i tried when i quit smoking .. LMAO i had 3 bouts of hives .. smoking was the last thing on my mind .. the itch and the swelling was horrible lol U28 .. control your woman !', 'JOIN u dont want to live at all just sleep naw i do n\\'t wanna JOIN i \\'m not that \" controlling \" shut up U39 wow ..', \"I 've heard so many opposite stories bout Paxil .. one gained weight , another lost it .. one could n't sleep , another slept all the time ... neither am i just drugs alcohol guess it affects different people very differently .. JOIN ha just kidding yeah it does , they all do always U56 looks to be case by case U56 why U70 JOIN Id read up on it if I were you U56 PART I 've been fine on it so far .\", \"I 've been sleeping .. its what makes us individual how long ?\", \"have n't been eating too much .. PART u r not on meds I am good , U3 .. how you doin tonight ?\", '.', 'ACTION will never take wellbutrin again LOL .', 'PART bye U70 PART really U35 ?', 'Why ?', 'my tummy is a bit upset , but nothing serious ..', 'I can still eat .', 'U56 yea i have slept like 5 hours this week how long have you been taking it U56 ?', 'holy crap !', 'sucks but ill get through it a week now , U8 .', \"U70 probably looks like death JOIN JOIN yah it will take a few weeks for it to kick in JOIN PRIVMSG U13 how are you doing tonight i 'm okay just movin files around and shit boring and time consuming :) anti depressant talk ?\", 'I want in !', 'how mean U28 LOL HEY !', \"lol U65 LOL U8 i took it for smoking cessation .. LMAO 2 1 / 2 weeks later i had 3 bouts of bad hives .... had to get shots 3 times that week .. the swelling and itch was so bad didnt see you there it 's already working .. my anxiety is down to near nothing .. PART life is a trip im leaving well dayum U70 I 'm on it too yeah real excitin haha hi U65 heyyyyyyyyyy U65 honey *smewchies* you do n't eat you do n't sleep you live on alcohol , what can i say JOIN your HOT ?\", 'hey U35 JOIN Wellbutrin ?', 'since when is Wellbutrin used for that ?', 'welcome to da real world ever hear of Zyban ?', 'Ummm are you taking anything else with it U56 ?', \"yea i stopped taking paxil a week ago no that 's wellbutrin JOIN an people cry when we talk sports , ohh yeah talkin bout wantin to kill themself is much betta convo i 'll keep you awake for other reasons U70 hi U91 U30 , nobody 's talkin bout wanting to kill themselves .\", 'Paxil , all antidepressants for that matter take at least a few weeks to work sex take a deep breath think about till you let it go JOIN PART might as well u seriously hurt my feelings U28 , hiya U92 honey *smewchies* PART not you U56 U30 shut up about it talkin bout sports makes me wanna talk about killing myself :/ wanting to talk about killing myself makes me wanna go play sports .. .', 'its a vicious circle Gosh mwahs U35 lmao U3 PART go DETROIT im going through enough trying not to take that crap lmao U3 PART awww U92 *blush* U30 , do I sit in here and complain how bad my life sucks and stuff ?', \"I 'm on antidepressants now , and I brought up the topic .\", 'Sorry .', 'lol U3 detroit sucks hi U1 U70 ... i appologize hi cali is better U56 i said not you hi U26 okay .', 'scroll up michigan sucks noth sucks PART JOIN nortenos sucks .', 'ACTION talks about masturbating while depressed .', \"PART thx , i guess U28 ~ u try watching your ex die in front of u <-- bitches and complains about how bad her life has been recently but i 'll stop now moans for no reason PART I was actually very surprised that so many people have been on these things .. thats an oxymoron .. oh wait I know how thats facilitated .\", 'ACTION snickers .', \"umm not gonna happen , but then again i do n't know what you 're talkin about U70 look at us babi look at us now lol if you wanna yak , pm me brb I have midgets to watch im outta here :beer: where is everyone at chews gum he 's 2 feet tall PART ta ta U70 PART every nite i pray i hope that u will stay .\", 'ACTION is now losted .', 'JOIN PART JOIN babi look at us JOIN U95 !!', 'heyyyyyyyyyyyyyy U95 gurlie :) hi babycakeses !', 'ewww @ my pm .. PART PART U1 PART hey U95 im bored U35 U92 PART who are you U59 ?', 'NICK : U65 hey U95 LMAO @ U65 lol hi U65 is yummylicious PART lol U65 dat guy that smokes that chronic .', 'ACTION drools on himself .', 'ahh ok .', 'ACTION rubs her belly .', 'chronic = weed sticky icky got it LMAO U65 change it to wee U65 LOL put it in a jar !!!', 'hey U56 JOIN is cuddlicious duh hey U28 the name on my phone has changed JOIN huh ?', 'that would be mean I just had a U65 moment its not Rick James anymore you know all the things you can do with spit vinyl ?', \"and thought I 'd share hahah !\", 'hey U50 LMAO U65 hey U95 im rich james biatch it makes a great lube is f**kalicious in a pinch its now S & S Swackhammer JOIN JOIN im rich biatch U30 oh lord .. why ?!?!?', 'JOIN que mami JOIN PART u want me look at the last name :beer: jucilicious .', '12 (((((.. 4 U102 .. 12 ))))) U102 hey U101 !', \"yeah ... hey U100 and U99 hey U102 U102 im gold hiya U102 :) U102 's here ?\", '((((((((( U3 ))))))) hey U3 !', 'U95 hi all .', '12 (((((.. 4 U95 .. 12 ))))) hey U30 hey U102 hey U102 hi U35 look at us now .', '4 (((((((((((( .', '6 U3 .', '4 )))))))))))) PART what is here ?', \"lol i couldnt find you in the P 's what ?\", 'who ?', 'hey U1 oh .. here is a crowded chat room LOL hey U92 JOIN PART anyone guys wanna pm PART Im from east LA im wit da 18ST burps scuse you JOIN lol farts how much it cost ?', 'eitther the room is slow or im lagging i still see my hellos yeah i is U102 great to see you again did u fart cuz u blew me away lol brb JOIN yep ohhh sexy love PART girl that makes u do JOIN hey U106 !', \"PART U101 do n't PM without asking come running back to u sexy love .\", 'ACTION flops over on the couch and kicks everyone else off .', 'JOIN PART ugh thanks U56 lol where are you U59 JOIN .', 'ACTION falls on the floor .', 'haha !', 'im so addicted to her beuty touch U101 , I have e-herpes PART im listen to dis song boy jumps in the beanbag how is everbody heya U50 catches U1 JOIN was dat a racist comment wb U61 beanbag did U3 give you those U102 ?', 'PART hi U92 any guys wanna pm a girl like me .', 'ACTION thinks she needs to change her pic back to the old one , too many damn PMs lol .', 'itz a seat ... eh i dont get around enough to give anyone anything PART lol JOIN PART U66 ...... if i felt a rock hard cock in my mouth , i owuldnt be in here oh sexy love .', 'ACTION stretches out on the couch and sighs happily .', 'U3 did you physically meet neysa ?', 'a bag full o beans girl take make u do .', 'ACTION saunders back in .', 'PART make me run to you omg newp Im so off PART making love to you happy birthday shane !!!!!!!!!!!!!!!!!!!!!!!!!!!', 'which lady wants to pm me JOIN SExy love so yeah otay is a beanbag a racist comment ?', 'you fat mother #### !!!!!!!!!!!!!', 'was supposed to but never happend why ?', 'shorty like miiiiiinnnnnnnnnneeeeeeee i love .................... oh im jus curious is all i dunno is it ?', 'PART JOIN me Yeah Zyban I have heard of U35 ... i need ................... JOIN JOIN cool cool hey U110 !', 'someone said it was I thought i desire .................. like dude shane ate one too many cakes today i think shorty lllllllliiiiiiiiiikeee mine JOIN ok i need to put more clothes on JOIN brb miiiiiiiiiiiiinnnnnnnnnnneeeeeeeeee aiiiiiiiiiiiiiiiiiiiiiiii jesus loves you like mmmmmmmmiiiiiiiiinnnnnnnnneeeeeeee JOIN JOIN JESUS LOVES YOU JOIN its 11 hi all woooooooooaaaahhhhhhhhhhhh hi U115 firs time using this site he did and he killed a kitten and said that that would be me if I ever told :-( welcome to my room JOIN .', '2 ****** Welcome to all who just ed us !!!', '****** .', 'hello PART JOIN PART everyone JOIN hey U95 JOIN PART hi U113 PART JOIN PART JOIN PART i love each and every one of yall U8 heyyyyyy hello welome to my room lmfao mike PART i would dump you in cookies and cream PART PART with some cherry on toop of yall this song has gotta go PART yawns what song .', 'ACTION falls asleep on the couch .', \"we w ere just talking about jesus trials throught the desert and the temptations that pursued him goodbye to romance PART U108 .. this ai n't your room .\", 'too slow fo me one two three jesus loves me .', 'ACTION is backfrontsidewaysandallaroundtheworld .', 'is there a chat room here that deals with sports and fitness or not three four Hi all does anyone want to chat with a 23 f from ontario canada he loves you more JOIN sports ?', '<perk> hey U115 PART hi hi U118 .', 'ACTION beats herself over the head with a bible \" make it stop make it stop ! \"', '.', 'JOIN lol welcome to my room hey U38 hi U108 U108 ... we w ere just talking about jesus trials throught the desert and the temptations that pursued him yeah its called #prideIsland type / #prideisland its all about the fitness is a christian but is aggravated at denomination churches LOL U95 JOIN U38 are you in welcome to black paradis make it go away ?', 'JOIN PART hi U116 why dontcha go and try to find it for him U108 :-) .', 'ACTION sets up his altar to summon lucifuge .', 'welcome to my room hi U1 LOL U65 fitness my asss .... thats the part i felt most after that workout lmao U65 we w ere just talking about jesus trials throught the desert and the temptations that pursued him hi again U39 what the shit is lucifuge ?', 'where you at .', 'ACTION eyes the loser that seems to think he paid the registration fee for this room .', 'PART LMAO U53 PART lol @ lucifuge so , what have we disocvered my children ?', 'satan in my home ?', 'lol JOIN LMAO U65 you mean lucifer hi U120 where is your home welcome to my room in hell JOIN or lucy-fur LOL in Iowa i presume JOIN we were just talking about jesus trials throught the desert and the temptations that pursued him ok ugh .', \"hello U102 do you not take private messages hey U108 ... wrong room hi U120 PART :P hi U7 lol hi U7 thanks goodness lmao -s woooohoooo please do n't beat me ... with your bible :) ahhhhhhhhhhhhhh finally !\", \"ok im back hi again U39 hey U7 front wb U28 PART hey U92 if you dont beat me with your torah PART wb U28 O.o Teck n9ne is back homies PART PART dont fck with the torah U3 JOIN chattanooga is an hour from me U7 thanks U7 and U35 ( dahlin ) he 's the prime minister of hell google it lol U95 OMG U3 i would never do that .. i do n't chat religion dont fck with the bible U95 kewl U39 JOIN .\", 'ACTION is never wrong .', 'JOIN well ..... JOIN yep JOIN well n othing JOIN HI U56 do any women wanna chat ?', \"the worst that would happen is id get burned to the stake hey y' all PART it goes both ways dear hi U104 JOIN JOIN PART yes , it does go both ways .. JOIN and i know you dont U35 Chica PART PART nice pic U7 ty U39 .\", 'ACTION snores on the couch .', 'i \\'ll dabble in a tad of politics once in awhile but nevah religion .. it \\'s too touchy a subject JOIN yvw how have u been doing U56 .. been awhile since chatted JOIN JOIN where ever you go whatever you do ill be here waiting for you very much so practically have to put the room on moderation for that but sports .. now that \\'s where i get the label \" hater \"... hmph !!', 'PART JOIN trance boi yep @ religion JOIN PART JOIN MODE #talkcity_adults + o U132 .', '12 (((((.. 4 U132 .. 12 ))))) JOIN mmm ... taste like chicken U132 !!!', 'tatatatnanaantatat .', '2 Hi U133 !', 'Welcome to #talkcity_adults !', 'hey U132 HI U132 hiya U132 do u PART do or die .', 'ACTION swing .', 'JOIN mmmmmmmmmmmmm lovely nick there LOL JOIN hey U132 ((((((((((( U3 ))))))))))))) mmmomom how come everything tastes like chicken but sometimes chicken doesnt taste like chcken hey U1 !!!', 'PART hey jeff and U104 and U35 PART seminilla party at silver crib hey U30 !!!!', \"PART lol it 's the matrix , out of wack bring drinks food is such a wonderful thing U12 deop MODE #talkcity_adults - o U132 PART vodka brb .. popcorn is ready U132 : Are you a man or a woman ?\", \"that depends if neysa 's cooking it U102 PART U30 ....... your like the walmart greeter .. only time i see you type is when someone comes in lol JOIN JOIN packs of ciggareets brb hi U12 you sexy bot JOIN and ill bring da weeeeeeeeeeeeeeeeeeeeeeeeed PART hahaha U28 !\", \"JOIN haha i love you JOIN nite all should n't dis the future wife love u too i want you PART nite U67 hey U116 !\", '.', '2 Hi U31 !', 'Welcome to #talkcity_adults !', 'PART JOIN no drug talk U91 I told her I was gonna teach her how to cook .. turn her into the perfect lil housewife for ya .', 'any females want to chat ?', '25 m canada pm me U59 JOIN .', '12 (((((.. 4 U138 .. 12 ))))) so i hear U56 U1 U12 i want your bot lol ty U1 :D (((( U3 ))))) yw U3 PART']\n"
     ]
    }
   ],
   "source": [
    "#1)converting list to string and tokenizing sentences\n",
    "from nltk.tokenize import sent_tokenize\n",
    "#converting list to single string str1\n",
    "str=\" \".join(chattext)\n",
    "tokenizedstr=sent_tokenize(str)\n",
    "print(tokenizedstr)"
   ]
  },
  {
   "cell_type": "code",
   "execution_count": 30,
   "metadata": {},
   "outputs": [
    {
     "name": "stdout",
     "output_type": "stream",
     "text": [
      "[('JOIN', 'NNP'), ('U13', 'NNP'), (',', ','), ('welcome', 'VBP'), ('to', 'TO'), ('#', '#'), ('talkcity_adults', 'NNS'), ('!', '.')]\n",
      "[('.', '.')]\n",
      "[('4', 'CD'), ('Please', 'NNP'), ('ask', 'NN'), ('in', 'IN'), ('the', 'DT'), ('main', 'JJ'), ('room', 'NN'), ('before', 'IN'), ('Private', 'NNP'), ('Messaging', 'NNP'), ('others', 'NNS'), ('!', '.'), ('.', '.')]\n",
      "[('You', 'PRP'), ('can', 'MD'), ('find', 'VB'), ('our', 'PRP$'), ('rules', 'NNS'), ('at', 'IN'), ('http', 'JJ'), ('Thanks', 'NNP'), ('for', 'IN'), ('joining', 'VBG'), ('us', 'PRP'), ('!', '.')]\n",
      "[('no', 'DT'), ('rain', 'NN'), ('here', 'RB'), ('..', 'NNP'), ('for', 'IN'), ('a', 'DT'), ('change', 'NN'), ('LOL', 'NNP'), ('.', '.')]\n",
      "[('ACTION', 'NNP'), ('rubs', 'VBZ'), ('her', 'PRP$'), ('aching', 'VBG'), ('belly', 'RB'), ('.', '.')]\n",
      "[('suppose', 'NN'), ('to', 'TO'), ('be', 'VB'), ('sunny', 'JJ'), ('and', 'CC'), ('75', 'CD'), ('tomorrow', 'NN'), ('LMAO', 'NNP'), ('i', 'NN'), ('love', 'VBP'), ('garlic', 'JJ'), ('NOTICE', 'NNP'), ('U13', 'NNP'), ('to', 'TO'), ('#', '#'), ('talkcity_adults', 'NNS'), (',', ','), ('To', 'TO'), ('get', 'VB'), ('your', 'PRP$'), ('own', 'JJ'), ('game', 'NN'), ('/', 'NNP'), ('control', 'NN'), ('bot', 'NN'), ('for', 'IN'), ('your', 'PRP$'), ('chat', 'NN'), ('room', 'NN'), ('please', 'NN'), ('contact', 'JJ'), ('Dawnstar', 'NNP'), ('Visit', 'NNP'), ('http', 'NN'), (':', ':'), ('//www.shadowbots.com', 'NN'), ('Paxil', 'NNP'), ('is', 'VBZ'), ('helping', 'VBG'), ('me', 'PRP'), (',', ','), ('U70', 'NNP'), ('.', '.')]\n",
      "[('PART', 'NN'), ('this', 'DT'), ('edmonton', 'NN'), ('/', 'VBZ'), ('detroit', 'JJ'), ('game', 'NN'), ('is', 'VBZ'), ('goin', 'VBN'), ('to', 'TO'), ('shit', 'VB'), ('HI', 'NNP'), ('ROOM', 'NNP'), ('my', 'PRP$'), ('family', 'NN'), ('says', 'VBZ'), ('it', 'PRP'), ('made', 'VBD'), ('me', 'PRP'), ('skin', 'JJ'), ('and', 'CC'), ('bones', 'NNS'), ('PART', 'NNP'), ('JOIN', 'NNP'), ('PART', 'NNP'), ('JOIN', 'NNP'), ('HOW', 'NNP'), ('R', 'NNP'), ('U', 'NNP'), ('ALL', 'NNP'), ('DOING', 'NNP'), ('2DAY', 'CD'), ('may', 'MD'), ('i', 'VB'), ('pm', 'NN'), ('you', 'PRP'), ('U7', 'NNP'), ('?', '.')]\n",
      "[('gawd', 'NN'), ('i', 'NNS'), ('need', 'VBP'), ('meds', 'NNS'), ('that', 'WDT'), ('would', 'MD'), ('make', 'VB'), ('me', 'PRP'), ('skin', 'JJ'), ('and', 'CC'), ('bones', 'NNS'), ('LOL', 'NNP'), ('sure', 'JJ'), ('U69', 'NNP'), ('no', 'DT'), ('need', 'NN'), ('to', 'TO'), ('yell', 'VB'), ('U19', 'NNP'), ('what', 'WP'), ('do', 'VBP'), ('you', 'PRP'), ('weigh', 'VB'), ('now', 'RB'), ('U70', 'NNP'), ('...', ':'), ('.', '.'), ('93', 'CD'), ('lbs', 'JJ'), ('soakin', 'NN'), ('wet', 'NN'), ('?', '.')]\n",
      "[('really', 'RB'), ('?', '.'), ('?', '.'), ('?', '.'), ('?', '.')]\n",
      "[('I', 'PRP'), ('talked', 'VBD'), ('to', 'TO'), ('someone', 'NN'), ('else', 'RB'), ('who', 'WP'), ('says', 'VBZ'), ('she', 'PRP'), ('gained', 'VBD'), ('30', 'CD'), ('lbs', 'NNS'), ('while', 'IN'), ('on', 'IN'), ('paxil', 'NN'), ('!', '.')]\n",
      "[('Great', 'NNP'), ('till', 'NN'), ('you', 'PRP'), ('busted', 'VBD'), ('caps', 'NNS'), ('on', 'IN'), ('mah', 'JJ'), ('eyes', 'NNS'), ('mang', 'NN'), ('thats', 'NNS'), ('good', 'JJ'), ('U56', 'NNP'), (',', ','), ('it', 'PRP'), ('helped', 'VBD'), ('me', 'PRP'), ('too', 'RB'), ('U56', 'NNP'), ('but', 'CC'), ('when', 'WRB'), ('i', 'JJ'), ('didnt', 'VBP'), ('take', 'VB'), ('it', 'PRP'), ('which', 'WDT'), ('is', 'VBZ'), ('now', 'RB'), ('~', 'JJ'), ('u', 'JJ'), ('cant', 'JJ'), ('sleep', 'NN'), ('eat', 'NN'), (',', ','), ('live', 'VBP'), ('Paxil', 'NNP'), ('=', 'NNP'), ('danger', 'NN'), ('!', '.')]\n",
      "[('breathe', 'NN'), (\"'\", \"''\"), ('YES', 'NNP'), ('U8', 'NNP'), ('.', '.')]\n",
      "[('ACTION', 'NNP'), ('smewchies', 'VBZ'), ('U3', 'NNP'), (\"'s\", 'POS'), ('eyes', 'NNS'), ('to', 'TO'), ('make', 'VB'), ('him', 'PRP'), ('feel', 'VB'), ('better', 'RB'), ('.', '.')]\n",
      "[('JOIN', 'NNP'), ('hi', 'NN'), ('..', 'NNP'), ('U3', 'NNP'), ('PART', 'NNP'), ('Hi', 'NNP'), ('U24', 'NNP'), ('hi', 'NN'), ('U3', 'NNP'), ('JOIN', 'NNP'), ('thats', 'VBZ'), ('why', 'WRB'), ('im', 'JJ'), ('drinking', 'NN'), ('away', 'RB'), ('the', 'DT'), ('withdrawal', 'NN'), ('who', 'WP'), ('did', 'VBD'), ('what', 'WP'), ('to', 'TO'), ('your', 'PRP$'), ('eyes', 'NNS'), ('?', '.')]\n",
      "[('.', '.')]\n",
      "[('12', 'CD'), ('(', '('), ('(', '('), ('(', '('), ('(', '('), ('(', '('), ('..', '$'), ('4', 'CD'), ('U46', 'NNP'), ('..', 'NNP'), ('12', 'CD'), (')', ')'), (')', ')'), (')', ')'), (')', ')'), (')', ')'), ('anyone', 'NN'), ('else', 'RB'), ('from', 'IN'), ('tennesee', 'NN'), ('here', 'RB'), ('ty', 'VBZ'), ('U35', 'NNP'), ('better', 'RBR'), ('SSRI', 'NNP'), (\"'s\", 'POS'), ('out', 'IN'), ('there', 'RB'), ('girl', 'JJ'), ('PART', 'NNP'), ('JOIN', 'NNP'), ('well', 'RB'), ('..', 'NNP'), ('you', 'PRP'), (\"'ve\", 'VBP'), ('got', 'VBN'), ('ta', 'JJ'), ('deal', 'NN'), ('with', 'IN'), ('the', 'DT'), ('issues', 'NNS'), ('that', 'WDT'), ('caused', 'VBD'), ('your', 'PRP$'), ('depression', 'NN'), ('in', 'IN'), ('the', 'DT'), ('first', 'JJ'), ('place', 'NN'), ('..', 'NN'), ('antidepressants', 'NNS'), ('are', 'VBP'), (\"n't\", 'RB'), ('a', 'DT'), ('cure', 'NN'), ('..', 'NN'), ('they', 'PRP'), (\"'re\", 'VBP'), ('just', 'RB'), ('meant', 'VBN'), ('to', 'TO'), ('help', 'VB'), ('you', 'PRP'), ('while', 'IN'), ('you', 'PRP'), ('deal', 'VBP'), ('with', 'IN'), ('the', 'DT'), ('real', 'JJ'), ('problem', 'NN'), ('awww', 'NN'), ('U3', 'NNP'), ('you', 'PRP'), ('know', 'VBP'), ('i', 'JJ'), ('lubbs', 'VBP'), ('ya', 'JJ'), ('honey', 'NN'), (':', ':'), (')', ')'), ('JOIN', 'NNP'), ('ohh', 'MD'), ('..', 'VB'), ('withdrawl', 'JJ'), ('..', 'NNP'), ('heyyyyyyyyy', 'NN'), ('U78', 'NNP'), (':', ':'), (')', ')'), ('hey', 'NN'), ('U78', 'NNP'), ('are', 'VBP'), (\"n't\", 'RB'), ('you', 'PRP'), ('supposed', 'VBN'), ('to', 'TO'), ('wean', 'VB'), ('yourself', 'PRP'), ('off', 'RP'), ('?', '.')]\n",
      "[('i', 'NNS'), ('need', 'VBP'), ('meds', 'NNS'), ('like', 'IN'), ('that', 'DT'), ('now', 'RB'), ('U56', 'NNP'), ('JOIN', 'NNP'), ('hiya', 'VBD'), ('U35', 'NNP'), ('JOIN', 'NNP'), ('hi', 'VBD'), ('U30', 'NNP'), ('Paxil', 'NNP'), ('yes', 'NNS'), ('...', ':'), ('yea', 'RB'), ('well', 'RB'), ('nobody', 'NN'), ('is', 'VBZ'), ('gon', 'VBG'), ('na', 'TO'), ('bring', 'VB'), ('back', 'RP'), ('my', 'PRP$'), ('ex', 'NN'), ('who', 'WP'), ('died', 'VBD'), ('and', 'CC'), ('those', 'DT'), ('pills', 'NNS'), ('cost', 'VBP'), ('too', 'RB'), ('much', 'JJ'), ('JOIN', 'NNP'), ('Paxil', 'NNP'), ('can', 'MD'), ('be', 'VB'), ('horrid', 'JJ'), ('yeah', 'NN'), (',', ','), ('U35', 'NNP'), ('..', 'NNP')]\n",
      "[('I', 'PRP'), ('just', 'RB'), ('started', 'VBD'), ('Paxil', 'NNP'), ('..', 'NNP'), ('JOIN', 'NNP'), ('uh', 'JJ'), ('oh', 'NNS'), ('..', 'VBP'), ('PART', 'NNP'), ('PART', 'NNP'), ('did', 'VBD'), ('u', 'JJ'), ('take', 'VB'), ('it', 'PRP'), ('U8', 'NNP'), ('awww', 'VBZ'), ('U70', 'NNP'), ('i', 'NN'), ('am', 'VBP'), ('so', 'RB'), ('sorry', 'JJ'), ('honey', 'NN'), (':', ':'), ('(', '('), ('try', 'VB'), ('Zoloft', 'NNP'), ('or', 'CC'), ('Wellbutrin', 'NNP'), ('(', '('), ('sp', 'VB'), ('?', '.'), (')', ')')]\n",
      "[('PART', 'NNP'), ('PART', 'NNP'), ('no', 'DT'), ('I', 'PRP'), ('had', 'VBD'), ('a', 'DT'), ('roomate', 'NN'), ('who', 'WP'), ('did', 'VBD'), ('though', 'IN'), ('i', 'NN'), ('tried', 'VBD'), ('those', 'DT'), ('too', 'RB'), ('U8', 'JJ'), ('PART', 'NNP'), ('just', 'RB'), ('knocked', 'VBD'), ('her', 'PRP'), ('out', 'RP'), ('OK', 'JJ'), ('-', ':'), ('can', 'MD'), ('someone', 'NN'), ('kick', 'VB'), ('U66', 'NNP'), ('for', 'IN'), ('making', 'VBG'), ('obscene', 'JJ'), ('suggestions', 'NNS'), ('in', 'IN'), ('pm', 'JJ'), ('-', ':'), ('and', 'CC'), ('if', 'IN'), ('u', 'JJ'), ('like', 'IN'), ('I', 'PRP'), (\"'ll\", 'MD'), ('post', 'VB'), ('it', 'PRP'), ('in', 'IN'), ('the', 'DT'), ('room', 'NN'), ('so', 'IN'), ('we', 'PRP'), ('can', 'MD'), ('all', 'DT'), ('point', 'NN'), ('and', 'CC'), ('laugh', 'NN'), ('at', 'IN'), ('the', 'DT'), ('moron', 'NN'), ('is', 'VBZ'), ('not', 'RB'), ('on', 'IN'), ('any', 'DT'), ('meds', 'NNS'), ('neysa', 'VBP'), ('left', 'VBN'), ('bruises', 'NNS'), ('on', 'IN'), ('me', 'PRP'), ('PART', 'NNP'), ('lol', 'VBZ'), ('how', 'WRB'), ('are', 'VBP'), ('you', 'PRP'), ('U46', 'IN'), ('chica', 'NNS'), ('?', '.')]\n",
      "[('thats', 'NNS'), ('what', 'WP'), ('it', 'PRP'), ('DOES', 'VBZ'), ('Wellbutrin', 'NNP'), ('i', 'VB'), ('tried', 'VBD'), ('when', 'WRB'), ('i', 'NN'), ('quit', 'VBP'), ('smoking', 'VBG'), ('..', 'NNP'), ('LMAO', 'NNP'), ('i', 'NN'), ('had', 'VBD'), ('3', 'CD'), ('bouts', 'NNS'), ('of', 'IN'), ('hives', 'NNS'), ('..', 'VBP'), ('smoking', 'NN'), ('was', 'VBD'), ('the', 'DT'), ('last', 'JJ'), ('thing', 'NN'), ('on', 'IN'), ('my', 'PRP$'), ('mind', 'NN'), ('..', 'VBZ'), ('the', 'DT'), ('itch', 'NN'), ('and', 'CC'), ('the', 'DT'), ('swelling', 'NN'), ('was', 'VBD'), ('horrible', 'JJ'), ('lol', 'JJ'), ('U28', 'NNP'), ('..', 'NNP'), ('control', 'VB'), ('your', 'PRP$'), ('woman', 'NN'), ('!', '.')]\n",
      "[('JOIN', 'NNP'), ('u', 'JJ'), ('dont', 'NN'), ('want', 'VBP'), ('to', 'TO'), ('live', 'VB'), ('at', 'IN'), ('all', 'DT'), ('just', 'RB'), ('sleep', 'JJ'), ('naw', 'NN'), ('i', 'NN'), ('do', 'VBP'), (\"n't\", 'RB'), ('wan', 'VB'), ('na', 'TO'), ('JOIN', 'NNP'), ('i', 'NN'), (\"'m\", 'VBP'), ('not', 'RB'), ('that', 'IN'), ('``', '``'), ('controlling', 'VBG'), ('``', '``'), ('shut', 'VBN'), ('up', 'RP'), ('U39', 'NNP'), ('wow', 'NN'), ('..', 'NN')]\n",
      "[('I', 'PRP'), (\"'ve\", 'VBP'), ('heard', 'VBN'), ('so', 'RB'), ('many', 'JJ'), ('opposite', 'JJ'), ('stories', 'NNS'), ('bout', 'IN'), ('Paxil', 'NNP'), ('..', 'NNP'), ('one', 'CD'), ('gained', 'VBD'), ('weight', 'NN'), (',', ','), ('another', 'DT'), ('lost', 'VBD'), ('it', 'PRP'), ('..', 'NNP'), ('one', 'NN'), ('could', 'MD'), (\"n't\", 'RB'), ('sleep', 'VB'), (',', ','), ('another', 'DT'), ('slept', 'NN'), ('all', 'PDT'), ('the', 'DT'), ('time', 'NN'), ('...', ':'), ('neither', 'CC'), ('am', 'VBP'), ('i', 'JJ'), ('just', 'RB'), ('drugs', 'NNS'), ('alcohol', 'RB'), ('guess', 'VBP'), ('it', 'PRP'), ('affects', 'VBZ'), ('different', 'JJ'), ('people', 'NNS'), ('very', 'RB'), ('differently', 'RB'), ('..', 'JJ'), ('JOIN', 'NNP'), ('ha', 'NN'), ('just', 'RB'), ('kidding', 'VBG'), ('yeah', 'NNS'), ('it', 'PRP'), ('does', 'VBZ'), (',', ','), ('they', 'PRP'), ('all', 'DT'), ('do', 'VBP'), ('always', 'RB'), ('U56', 'NNP'), ('looks', 'VBZ'), ('to', 'TO'), ('be', 'VB'), ('case', 'NN'), ('by', 'IN'), ('case', 'NN'), ('U56', 'NNP'), ('why', 'WRB'), ('U70', 'NNP'), ('JOIN', 'NNP'), ('Id', 'NNP'), ('read', 'VBD'), ('up', 'RP'), ('on', 'IN'), ('it', 'PRP'), ('if', 'IN'), ('I', 'PRP'), ('were', 'VBD'), ('you', 'PRP'), ('U56', 'NNP'), ('PART', 'NNP'), ('I', 'PRP'), (\"'ve\", 'VBP'), ('been', 'VBN'), ('fine', 'JJ'), ('on', 'IN'), ('it', 'PRP'), ('so', 'RB'), ('far', 'RB'), ('.', '.')]\n",
      "[('I', 'PRP'), (\"'ve\", 'VBP'), ('been', 'VBN'), ('sleeping', 'VBG'), ('..', 'VB'), ('its', 'PRP$'), ('what', 'WP'), ('makes', 'VBZ'), ('us', 'PRP'), ('individual', 'JJ'), ('how', 'WRB'), ('long', 'RB'), ('?', '.')]\n",
      "[('have', 'VBP'), (\"n't\", 'RB'), ('been', 'VBN'), ('eating', 'VBG'), ('too', 'RB'), ('much', 'JJ'), ('..', 'NNP'), ('PART', 'NNP'), ('u', 'NNP'), ('r', 'VBZ'), ('not', 'RB'), ('on', 'IN'), ('meds', 'NNS'), ('I', 'PRP'), ('am', 'VBP'), ('good', 'JJ'), (',', ','), ('U3', 'NNP'), ('..', 'NNP'), ('how', 'WRB'), ('you', 'PRP'), ('doin', 'VBP'), ('tonight', 'VBN'), ('?', '.')]\n"
     ]
    },
    {
     "name": "stdout",
     "output_type": "stream",
     "text": [
      "[('.', '.')]\n",
      "[('ACTION', 'NNP'), ('will', 'MD'), ('never', 'RB'), ('take', 'VB'), ('wellbutrin', 'NN'), ('again', 'RB'), ('LOL', 'NNP'), ('.', '.')]\n",
      "[('PART', 'NN'), ('bye', 'NN'), ('U70', 'NNP'), ('PART', 'NNP'), ('really', 'RB'), ('U35', 'NNP'), ('?', '.')]\n",
      "[('Why', 'WRB'), ('?', '.')]\n",
      "[('my', 'PRP$'), ('tummy', 'NN'), ('is', 'VBZ'), ('a', 'DT'), ('bit', 'NN'), ('upset', 'JJ'), (',', ','), ('but', 'CC'), ('nothing', 'NN'), ('serious', 'JJ'), ('..', 'NN')]\n",
      "[('I', 'PRP'), ('can', 'MD'), ('still', 'RB'), ('eat', 'VB'), ('.', '.')]\n",
      "[('U56', 'NNP'), ('yea', 'NN'), ('i', 'NN'), ('have', 'VBP'), ('slept', 'VBN'), ('like', 'IN'), ('5', 'CD'), ('hours', 'NNS'), ('this', 'DT'), ('week', 'NN'), ('how', 'WRB'), ('long', 'RB'), ('have', 'VBP'), ('you', 'PRP'), ('been', 'VBN'), ('taking', 'VBG'), ('it', 'PRP'), ('U56', 'NNP'), ('?', '.')]\n",
      "[('holy', 'JJ'), ('crap', 'NN'), ('!', '.')]\n",
      "[('sucks', 'NNS'), ('but', 'CC'), ('ill', 'JJ'), ('get', 'VBP'), ('through', 'IN'), ('it', 'PRP'), ('a', 'DT'), ('week', 'NN'), ('now', 'RB'), (',', ','), ('U8', 'NNP'), ('.', '.')]\n",
      "[('U70', 'NNP'), ('probably', 'RB'), ('looks', 'VBZ'), ('like', 'IN'), ('death', 'NN'), ('JOIN', 'NNP'), ('JOIN', 'NNP'), ('yah', 'VBZ'), ('it', 'PRP'), ('will', 'MD'), ('take', 'VB'), ('a', 'DT'), ('few', 'JJ'), ('weeks', 'NNS'), ('for', 'IN'), ('it', 'PRP'), ('to', 'TO'), ('kick', 'VB'), ('in', 'IN'), ('JOIN', 'NNP'), ('PRIVMSG', 'NNP'), ('U13', 'NNP'), ('how', 'WRB'), ('are', 'VBP'), ('you', 'PRP'), ('doing', 'VBG'), ('tonight', 'JJ'), ('i', 'NN'), (\"'m\", 'VBP'), ('okay', 'JJ'), ('just', 'RB'), ('movin', 'NN'), ('files', 'NNS'), ('around', 'IN'), ('and', 'CC'), ('shit', 'VB'), ('boring', 'NN'), ('and', 'CC'), ('time', 'NN'), ('consuming', 'NN'), (':', ':'), (')', ')'), ('anti', 'VBP'), ('depressant', 'JJ'), ('talk', 'NN'), ('?', '.')]\n",
      "[('I', 'PRP'), ('want', 'VBP'), ('in', 'IN'), ('!', '.')]\n",
      "[('how', 'WRB'), ('mean', 'JJ'), ('U28', 'NNP'), ('LOL', 'NNP'), ('HEY', 'NNP'), ('!', '.')]\n",
      "[('lol', 'NN'), ('U65', 'NNP'), ('LOL', 'NNP'), ('U8', 'NNP'), ('i', 'NN'), ('took', 'VBD'), ('it', 'PRP'), ('for', 'IN'), ('smoking', 'VBG'), ('cessation', 'NN'), ('..', 'NNP'), ('LMAO', 'NNP'), ('2', 'CD'), ('1', 'CD'), ('/', 'JJ'), ('2', 'CD'), ('weeks', 'NNS'), ('later', 'RB'), ('i', 'VBP'), ('had', 'VBD'), ('3', 'CD'), ('bouts', 'NNS'), ('of', 'IN'), ('bad', 'JJ'), ('hives', 'NNS'), ('...', ':'), ('.', '.'), ('had', 'VBD'), ('to', 'TO'), ('get', 'VB'), ('shots', 'NNS'), ('3', 'CD'), ('times', 'NNS'), ('that', 'WDT'), ('week', 'NN'), ('..', 'VBP'), ('the', 'DT'), ('swelling', 'NN'), ('and', 'CC'), ('itch', 'NN'), ('was', 'VBD'), ('so', 'RB'), ('bad', 'JJ'), ('didnt', 'NN'), ('see', 'VBP'), ('you', 'PRP'), ('there', 'EX'), ('it', 'PRP'), (\"'s\", 'VBZ'), ('already', 'RB'), ('working', 'VBG'), ('..', 'NNP'), ('my', 'PRP$'), ('anxiety', 'NN'), ('is', 'VBZ'), ('down', 'RB'), ('to', 'TO'), ('near', 'IN'), ('nothing', 'NN'), ('..', 'NNP'), ('PART', 'NNP'), ('life', 'NN'), ('is', 'VBZ'), ('a', 'DT'), ('trip', 'NN'), ('im', 'NN'), ('leaving', 'VBG'), ('well', 'RB'), ('dayum', 'IN'), ('U70', 'NNP'), ('I', 'PRP'), (\"'m\", 'VBP'), ('on', 'IN'), ('it', 'PRP'), ('too', 'RB'), ('yeah', 'JJ'), ('real', 'JJ'), ('excitin', 'NN'), ('haha', 'NN'), ('hi', 'NN'), ('U65', 'NNP'), ('heyyyyyyyyyy', 'NN'), ('U65', 'NNP'), ('honey', 'NN'), ('*smewchies*', 'NN'), ('you', 'PRP'), ('do', 'VBP'), (\"n't\", 'RB'), ('eat', 'VB'), ('you', 'PRP'), ('do', 'VBP'), (\"n't\", 'RB'), ('sleep', 'VB'), ('you', 'PRP'), ('live', 'VBP'), ('on', 'IN'), ('alcohol', 'NN'), (',', ','), ('what', 'WP'), ('can', 'MD'), ('i', 'VB'), ('say', 'VBP'), ('JOIN', 'NNP'), ('your', 'PRP$'), ('HOT', 'NNP'), ('?', '.')]\n",
      "[('hey', 'NN'), ('U35', 'NNP'), ('JOIN', 'NNP'), ('Wellbutrin', 'NNP'), ('?', '.')]\n",
      "[('since', 'IN'), ('when', 'WRB'), ('is', 'VBZ'), ('Wellbutrin', 'NNP'), ('used', 'VBN'), ('for', 'IN'), ('that', 'DT'), ('?', '.')]\n",
      "[('welcome', 'NN'), ('to', 'TO'), ('da', 'VB'), ('real', 'JJ'), ('world', 'NN'), ('ever', 'RB'), ('hear', 'VBP'), ('of', 'IN'), ('Zyban', 'NNP'), ('?', '.')]\n",
      "[('Ummm', 'NNS'), ('are', 'VBP'), ('you', 'PRP'), ('taking', 'VBG'), ('anything', 'NN'), ('else', 'RB'), ('with', 'IN'), ('it', 'PRP'), ('U56', 'NNP'), ('?', '.')]\n",
      "[('yea', 'NN'), ('i', 'NN'), ('stopped', 'VBD'), ('taking', 'VBG'), ('paxil', 'NN'), ('a', 'DT'), ('week', 'NN'), ('ago', 'RB'), ('no', 'DT'), ('that', 'WDT'), (\"'s\", 'VBZ'), ('wellbutrin', 'JJR'), ('JOIN', 'NNP'), ('an', 'DT'), ('people', 'NNS'), ('cry', 'VBP'), ('when', 'WRB'), ('we', 'PRP'), ('talk', 'VBP'), ('sports', 'NNS'), (',', ','), ('ohh', 'JJ'), ('yeah', 'NN'), ('talkin', 'NN'), ('bout', 'NN'), ('wantin', 'NN'), ('to', 'TO'), ('kill', 'VB'), ('themself', 'PRP'), ('is', 'VBZ'), ('much', 'JJ'), ('betta', 'IN'), ('convo', 'NN'), ('i', 'NN'), (\"'ll\", 'MD'), ('keep', 'VB'), ('you', 'PRP'), ('awake', 'VBP'), ('for', 'IN'), ('other', 'JJ'), ('reasons', 'NNS'), ('U70', 'NNP'), ('hi', 'NN'), ('U91', 'NNP'), ('U30', 'NNP'), (',', ','), ('nobody', 'NN'), (\"'s\", 'POS'), ('talkin', 'NN'), ('bout', 'NN'), ('wanting', 'VBG'), ('to', 'TO'), ('kill', 'VB'), ('themselves', 'PRP'), ('.', '.')]\n",
      "[('Paxil', 'NNP'), (',', ','), ('all', 'DT'), ('antidepressants', 'NNS'), ('for', 'IN'), ('that', 'DT'), ('matter', 'NN'), ('take', 'VB'), ('at', 'IN'), ('least', 'JJS'), ('a', 'DT'), ('few', 'JJ'), ('weeks', 'NNS'), ('to', 'TO'), ('work', 'VB'), ('sex', 'NN'), ('take', 'VB'), ('a', 'DT'), ('deep', 'JJ'), ('breath', 'NN'), ('think', 'VBP'), ('about', 'IN'), ('till', 'NN'), ('you', 'PRP'), ('let', 'VB'), ('it', 'PRP'), ('go', 'VB'), ('JOIN', 'NNP'), ('PART', 'NNP'), ('might', 'MD'), ('as', 'RB'), ('well', 'RB'), ('u', 'JJ'), ('seriously', 'RB'), ('hurt', 'VB'), ('my', 'PRP$'), ('feelings', 'NNS'), ('U28', 'NNP'), (',', ','), ('hiya', 'NN'), ('U92', 'NNP'), ('honey', 'NN'), ('*smewchies*', 'NNP'), ('PART', 'NNP'), ('not', 'RB'), ('you', 'PRP'), ('U56', 'VBP'), ('U30', 'PRP'), ('shut', 'VB'), ('up', 'RP'), ('about', 'IN'), ('it', 'PRP'), ('talkin', 'VBZ'), ('bout', 'IN'), ('sports', 'NNS'), ('makes', 'VBZ'), ('me', 'PRP'), ('wan', 'VB'), ('na', 'JJ'), ('talk', 'NN'), ('about', 'IN'), ('killing', 'VBG'), ('myself', 'PRP'), (':', ':'), ('/', 'NN'), ('wanting', 'VBG'), ('to', 'TO'), ('talk', 'VB'), ('about', 'IN'), ('killing', 'VBG'), ('myself', 'PRP'), ('makes', 'VBZ'), ('me', 'PRP'), ('wan', 'VB'), ('na', 'RB'), ('go', 'VB'), ('play', 'JJ'), ('sports', 'NNS'), ('..', 'NN'), ('.', '.')]\n",
      "[('its', 'PRP$'), ('a', 'DT'), ('vicious', 'JJ'), ('circle', 'NN'), ('Gosh', 'NNP'), ('mwahs', 'NN'), ('U35', 'NNP'), ('lmao', 'NN'), ('U3', 'NNP'), ('PART', 'NNP'), ('go', 'VBP'), ('DETROIT', 'NNP'), ('im', 'NN'), ('going', 'VBG'), ('through', 'IN'), ('enough', 'JJ'), ('trying', 'VBG'), ('not', 'RB'), ('to', 'TO'), ('take', 'VB'), ('that', 'DT'), ('crap', 'NN'), ('lmao', 'VBZ'), ('U3', 'NNP'), ('PART', 'NNP'), ('awww', 'VBZ'), ('U92', 'NNP'), ('*blush*', 'NNP'), ('U30', 'NNP'), (',', ','), ('do', 'VBP'), ('I', 'PRP'), ('sit', 'VB'), ('in', 'IN'), ('here', 'RB'), ('and', 'CC'), ('complain', 'VB'), ('how', 'WRB'), ('bad', 'JJ'), ('my', 'PRP$'), ('life', 'NN'), ('sucks', 'NNS'), ('and', 'CC'), ('stuff', 'NN'), ('?', '.')]\n",
      "[('I', 'PRP'), (\"'m\", 'VBP'), ('on', 'IN'), ('antidepressants', 'NNS'), ('now', 'RB'), (',', ','), ('and', 'CC'), ('I', 'PRP'), ('brought', 'VBD'), ('up', 'RP'), ('the', 'DT'), ('topic', 'NN'), ('.', '.')]\n",
      "[('Sorry', 'NNP'), ('.', '.')]\n",
      "[('lol', 'NN'), ('U3', 'NNP'), ('detroit', 'NN'), ('sucks', 'VBZ'), ('hi', 'JJ'), ('U1', 'NNP'), ('U70', 'NNP'), ('...', ':'), ('i', 'NN'), ('appologize', 'VBP'), ('hi', 'NN'), ('cali', 'NN'), ('is', 'VBZ'), ('better', 'RBR'), ('U56', 'NNP'), ('i', 'NN'), ('said', 'VBD'), ('not', 'RB'), ('you', 'PRP'), ('hi', 'VBP'), ('U26', 'JJ'), ('okay', 'NN'), ('.', '.')]\n",
      "[('scroll', 'NN'), ('up', 'RP'), ('michigan', 'JJ'), ('sucks', 'NNS'), ('noth', 'DT'), ('sucks', 'NNS'), ('PART', 'NNP'), ('JOIN', 'NNP'), ('nortenos', 'JJ'), ('sucks', 'NNS'), ('.', '.')]\n",
      "[('ACTION', 'NNP'), ('talks', 'NNS'), ('about', 'IN'), ('masturbating', 'VBG'), ('while', 'IN'), ('depressed', 'VBN'), ('.', '.')]\n",
      "[('PART', 'NN'), ('thx', 'NN'), (',', ','), ('i', 'JJ'), ('guess', 'NN'), ('U28', 'NNP'), ('~', 'NNP'), ('u', 'JJ'), ('try', 'NN'), ('watching', 'VBG'), ('your', 'PRP$'), ('ex', 'NN'), ('die', 'NN'), ('in', 'IN'), ('front', 'NN'), ('of', 'IN'), ('u', 'JJ'), ('<', 'NNP'), ('--', ':'), ('bitches', 'NNS'), ('and', 'CC'), ('complains', 'NNS'), ('about', 'IN'), ('how', 'WRB'), ('bad', 'JJ'), ('her', 'PRP$'), ('life', 'NN'), ('has', 'VBZ'), ('been', 'VBN'), ('recently', 'RB'), ('but', 'CC'), ('i', 'JJ'), (\"'ll\", 'MD'), ('stop', 'VB'), ('now', 'RB'), ('moans', 'NNS'), ('for', 'IN'), ('no', 'DT'), ('reason', 'NN'), ('PART', 'NNP'), ('I', 'PRP'), ('was', 'VBD'), ('actually', 'RB'), ('very', 'RB'), ('surprised', 'JJ'), ('that', 'IN'), ('so', 'RB'), ('many', 'JJ'), ('people', 'NNS'), ('have', 'VBP'), ('been', 'VBN'), ('on', 'IN'), ('these', 'DT'), ('things', 'NNS'), ('..', 'VBP'), ('thats', 'NNS'), ('an', 'DT'), ('oxymoron', 'NN'), ('..', 'NN'), ('oh', 'IN'), ('wait', 'NN'), ('I', 'PRP'), ('know', 'VBP'), ('how', 'WRB'), ('thats', 'NNS'), ('facilitated', 'VBD'), ('.', '.')]\n",
      "[('ACTION', 'NNP'), ('snickers', 'NNS'), ('.', '.')]\n",
      "[('umm', 'JJ'), ('not', 'RB'), ('gon', 'VBG'), ('na', 'TO'), ('happen', 'VB'), (',', ','), ('but', 'CC'), ('then', 'RB'), ('again', 'RB'), ('i', 'JJ'), ('do', 'VBP'), (\"n't\", 'RB'), ('know', 'VB'), ('what', 'WP'), ('you', 'PRP'), (\"'re\", 'VBP'), ('talkin', 'JJ'), ('about', 'IN'), ('U70', 'NNP'), ('look', 'NN'), ('at', 'IN'), ('us', 'PRP'), ('babi', 'VBP'), ('look', 'NN'), ('at', 'IN'), ('us', 'PRP'), ('now', 'RB'), ('lol', 'VBP'), ('if', 'IN'), ('you', 'PRP'), ('wan', 'VBP'), ('na', 'JJ'), ('yak', 'NN'), (',', ','), ('pm', 'VB'), ('me', 'PRP'), ('brb', 'IN'), ('I', 'PRP'), ('have', 'VBP'), ('midgets', 'NNS'), ('to', 'TO'), ('watch', 'VB'), ('im', 'NN'), ('outta', 'NN'), ('here', 'RB'), (':', ':'), ('beer', 'NN'), (':', ':'), ('where', 'WRB'), ('is', 'VBZ'), ('everyone', 'NN'), ('at', 'IN'), ('chews', 'NNS'), ('gum', 'VBP'), ('he', 'PRP'), (\"'s\", 'VBZ'), ('2', 'CD'), ('feet', 'NNS'), ('tall', 'JJ'), ('PART', 'NNP'), ('ta', 'NN'), ('ta', 'NN'), ('U70', 'NNP'), ('PART', 'NNP'), ('every', 'DT'), ('nite', 'NN'), ('i', 'NN'), ('pray', 'VBP'), ('i', 'NN'), ('hope', 'VBP'), ('that', 'IN'), ('u', 'NN'), ('will', 'MD'), ('stay', 'VB'), ('.', '.')]\n",
      "[('ACTION', 'NNP'), ('is', 'VBZ'), ('now', 'RB'), ('losted', 'VBN'), ('.', '.')]\n",
      "[('JOIN', 'NNP'), ('PART', 'NNP'), ('JOIN', 'NNP'), ('babi', 'JJ'), ('look', 'NN'), ('at', 'IN'), ('us', 'PRP'), ('JOIN', 'NNP'), ('U95', 'NNP'), ('!', '.'), ('!', '.')]\n",
      "[('heyyyyyyyyyyyyyy', 'NN'), ('U95', 'NNP'), ('gurlie', 'NN'), (':', ':'), (')', ')'), ('hi', 'NN'), ('babycakeses', 'VBZ'), ('!', '.')]\n",
      "[('ewww', 'NN'), ('@', 'VB'), ('my', 'PRP$'), ('pm', 'NN'), ('..', 'NNP'), ('PART', 'NNP'), ('PART', 'NNP'), ('U1', 'NNP'), ('PART', 'NNP'), ('hey', 'VBZ'), ('U95', 'NNP'), ('im', 'NN'), ('bored', 'VBD'), ('U35', 'NNP'), ('U92', 'NNP'), ('PART', 'NNP'), ('who', 'WP'), ('are', 'VBP'), ('you', 'PRP'), ('U59', 'IN'), ('?', '.')]\n",
      "[('NICK', 'NN'), (':', ':'), ('U65', 'NNP'), ('hey', 'VBZ'), ('U95', 'NNP'), ('LMAO', 'NNP'), ('@', 'NNP'), ('U65', 'NNP'), ('lol', 'VBZ'), ('hi', 'PRP$'), ('U65', 'NNP'), ('is', 'VBZ'), ('yummylicious', 'JJ'), ('PART', 'NNP'), ('lol', 'NN'), ('U65', 'NNP'), ('dat', 'NN'), ('guy', 'NN'), ('that', 'WDT'), ('smokes', 'VBZ'), ('that', 'DT'), ('chronic', 'NN'), ('.', '.')]\n",
      "[('ACTION', 'NNP'), ('drools', 'VBZ'), ('on', 'IN'), ('himself', 'PRP'), ('.', '.')]\n",
      "[('ahh', 'RB'), ('ok', 'NN'), ('.', '.')]\n",
      "[('ACTION', 'NNP'), ('rubs', 'VBZ'), ('her', 'PRP$'), ('belly', 'NN'), ('.', '.')]\n",
      "[('chronic', 'JJ'), ('=', 'NNP'), ('weed', 'NN'), ('sticky', 'JJ'), ('icky', 'JJ'), ('got', 'VBD'), ('it', 'PRP'), ('LMAO', 'NNP'), ('U65', 'NNP'), ('change', 'NN'), ('it', 'PRP'), ('to', 'TO'), ('wee', 'VB'), ('U65', 'NNP'), ('LOL', 'NNP'), ('put', 'VBD'), ('it', 'PRP'), ('in', 'IN'), ('a', 'DT'), ('jar', 'NN'), ('!', '.'), ('!', '.'), ('!', '.')]\n",
      "[('hey', 'NN'), ('U56', 'NNP'), ('JOIN', 'NNP'), ('is', 'VBZ'), ('cuddlicious', 'JJ'), ('duh', 'NN'), ('hey', 'NN'), ('U28', 'IN'), ('the', 'DT'), ('name', 'NN'), ('on', 'IN'), ('my', 'PRP$'), ('phone', 'NN'), ('has', 'VBZ'), ('changed', 'VBN'), ('JOIN', 'NNP'), ('huh', 'NN'), ('?', '.')]\n",
      "[('that', 'DT'), ('would', 'MD'), ('be', 'VB'), ('mean', 'JJ'), ('I', 'PRP'), ('just', 'RB'), ('had', 'VBD'), ('a', 'DT'), ('U65', 'NNP'), ('moment', 'NN'), ('its', 'PRP$'), ('not', 'RB'), ('Rick', 'NNP'), ('James', 'NNP'), ('anymore', 'RB'), ('you', 'PRP'), ('know', 'VBP'), ('all', 'PDT'), ('the', 'DT'), ('things', 'NNS'), ('you', 'PRP'), ('can', 'MD'), ('do', 'VB'), ('with', 'IN'), ('spit', 'NN'), ('vinyl', 'NNS'), ('?', '.')]\n",
      "[('and', 'CC'), ('thought', 'VBD'), ('I', 'PRP'), (\"'d\", 'MD'), ('share', 'NN'), ('hahah', 'NN'), ('!', '.')]\n",
      "[('hey', 'NN'), ('U50', 'NNP'), ('LMAO', 'NNP'), ('U65', 'NNP'), ('hey', 'NN'), ('U95', 'NNP'), ('im', 'NN'), ('rich', 'JJ'), ('james', 'VBZ'), ('biatch', 'VB'), ('it', 'PRP'), ('makes', 'VBZ'), ('a', 'DT'), ('great', 'JJ'), ('lube', 'NN'), ('is', 'VBZ'), ('f**kalicious', 'JJ'), ('in', 'IN'), ('a', 'DT'), ('pinch', 'NN'), ('its', 'PRP$'), ('now', 'RB'), ('S', 'NNP'), ('&', 'CC'), ('S', 'NNP'), ('Swackhammer', 'NNP'), ('JOIN', 'NNP'), ('JOIN', 'NNP'), ('im', 'NN'), ('rich', 'JJ'), ('biatch', 'NN'), ('U30', 'NNP'), ('oh', 'NN'), ('lord', 'NN'), ('..', 'NNP'), ('why', 'WRB'), ('?', '.'), ('!', '.'), ('?', '.'), ('!', '.'), ('?', '.')]\n",
      "[('JOIN', 'NNP'), ('que', 'NN'), ('mami', 'NN'), ('JOIN', 'NNP'), ('PART', 'NNP'), ('u', 'NNP'), ('want', 'VBP'), ('me', 'PRP'), ('look', 'VB'), ('at', 'IN'), ('the', 'DT'), ('last', 'JJ'), ('name', 'NN'), (':', ':'), ('beer', 'NN'), (':', ':'), ('jucilicious', 'JJ'), ('.', '.')]\n",
      "[('12', 'CD'), ('(', '('), ('(', '('), ('(', '('), ('(', '('), ('(', '('), ('..', '$'), ('4', 'CD'), ('U102', 'NNP'), ('..', 'NNP'), ('12', 'CD'), (')', ')'), (')', ')'), (')', ')'), (')', ')'), (')', ')'), ('U102', 'NNP'), ('hey', 'NN'), ('U101', 'NNP'), ('!', '.')]\n",
      "[('yeah', 'NN'), ('...', ':'), ('hey', 'NN'), ('U100', 'NNP'), ('and', 'CC'), ('U99', 'NNP'), ('hey', 'VBP'), ('U102', 'NNP'), ('U102', 'NNP'), ('im', 'NN'), ('gold', 'NN'), ('hiya', 'NN'), ('U102', 'NNP'), (':', ':'), (')', ')'), ('U102', 'NNP'), (\"'s\", 'POS'), ('here', 'RB'), ('?', '.')]\n",
      "[('(', '('), ('(', '('), ('(', '('), ('(', '('), ('(', '('), ('(', '('), ('(', '('), ('(', '('), ('(', '('), ('U3', 'NNP'), (')', ')'), (')', ')'), (')', ')'), (')', ')'), (')', ')'), (')', ')'), (')', ')'), ('hey', 'NN'), ('U3', 'UH'), ('!', '.')]\n",
      "[('U95', 'NNP'), ('hi', 'NN'), ('all', 'DT'), ('.', '.')]\n",
      "[('12', 'CD'), ('(', '('), ('(', '('), ('(', '('), ('(', '('), ('(', '('), ('..', '$'), ('4', 'CD'), ('U95', 'NNP'), ('..', 'NNP'), ('12', 'CD'), (')', ')'), (')', ')'), (')', ')'), (')', ')'), (')', ')'), ('hey', 'NN'), ('U30', 'NNP'), ('hey', 'NN'), ('U102', 'NNP'), ('hey', 'NN'), ('U102', 'NNP'), ('hi', 'NN'), ('U35', 'NNP'), ('look', 'NN'), ('at', 'IN'), ('us', 'PRP'), ('now', 'RB'), ('.', '.')]\n",
      "[('4', 'CD'), ('(', '('), ('(', '('), ('(', '('), ('(', '('), ('(', '('), ('(', '('), ('(', '('), ('(', '('), ('(', '('), ('(', '('), ('(', '('), ('(', '('), ('.', '.')]\n",
      "[('6', 'CD'), ('U3', 'NNP'), ('.', '.')]\n",
      "[('4', 'CD'), (')', ')'), (')', ')'), (')', ')'), (')', ')'), (')', ')'), (')', ')'), (')', ')'), (')', ')'), (')', ')'), (')', ')'), (')', ')'), (')', ')'), ('PART', 'NNP'), ('what', 'WP'), ('is', 'VBZ'), ('here', 'RB'), ('?', '.')]\n",
      "[('lol', 'NN'), ('i', 'NN'), ('couldnt', 'VBP'), ('find', 'VBP'), ('you', 'PRP'), ('in', 'IN'), ('the', 'DT'), ('P', 'NNP'), (\"'s\", 'POS'), ('what', 'WP'), ('?', '.')]\n",
      "[('who', 'WP'), ('?', '.')]\n",
      "[('hey', 'NN'), ('U1', 'NNP'), ('oh', 'VBZ'), ('..', 'NNP'), ('here', 'RB'), ('is', 'VBZ'), ('a', 'DT'), ('crowded', 'JJ'), ('chat', 'NN'), ('room', 'NN'), ('LOL', 'NNP'), ('hey', 'NN'), ('U92', 'NNP'), ('JOIN', 'NNP'), ('PART', 'NNP'), ('anyone', 'NN'), ('guys', 'NN'), ('wan', 'NN'), ('na', 'TO'), ('pm', 'VB'), ('PART', 'NNP'), ('Im', 'NNP'), ('from', 'IN'), ('east', 'JJ'), ('LA', 'NNP'), ('im', 'NN'), ('wit', 'NN'), ('da', 'VBZ'), ('18ST', 'CD'), ('burps', 'NN'), ('scuse', 'NN'), ('you', 'PRP'), ('JOIN', 'VBP'), ('lol', 'JJ'), ('farts', 'VBZ'), ('how', 'WRB'), ('much', 'JJ'), ('it', 'PRP'), ('cost', 'NN'), ('?', '.')]\n",
      "[('eitther', 'RB'), ('the', 'DT'), ('room', 'NN'), ('is', 'VBZ'), ('slow', 'JJ'), ('or', 'CC'), ('im', 'JJ'), ('lagging', 'NN'), ('i', 'NN'), ('still', 'RB'), ('see', 'VB'), ('my', 'PRP$'), ('hellos', 'NN'), ('yeah', 'NN'), ('i', 'NN'), ('is', 'VBZ'), ('U102', 'NNP'), ('great', 'JJ'), ('to', 'TO'), ('see', 'VB'), ('you', 'PRP'), ('again', 'RB'), ('did', 'VBD'), ('u', 'JJ'), ('fart', 'NN'), ('cuz', 'NN'), ('u', 'JJ'), ('blew', 'VBD'), ('me', 'PRP'), ('away', 'RP'), ('lol', 'JJ'), ('brb', 'NN'), ('JOIN', 'NNP'), ('yep', 'NNP'), ('ohhh', 'MD'), ('sexy', 'VB'), ('love', 'VB'), ('PART', 'NNP'), ('girl', 'NN'), ('that', 'WDT'), ('makes', 'VBZ'), ('u', 'JJ'), ('do', 'VB'), ('JOIN', 'NNP'), ('hey', 'VB'), ('U106', 'NNP'), ('!', '.')]\n",
      "[('PART', 'NN'), ('U101', 'NNP'), ('do', 'VBP'), (\"n't\", 'RB'), ('PM', 'VB'), ('without', 'IN'), ('asking', 'VBG'), ('come', 'NN'), ('running', 'VBG'), ('back', 'RB'), ('to', 'TO'), ('u', 'VB'), ('sexy', 'JJ'), ('love', 'NN'), ('.', '.')]\n",
      "[('ACTION', 'NNP'), ('flops', 'VBZ'), ('over', 'IN'), ('on', 'IN'), ('the', 'DT'), ('couch', 'NN'), ('and', 'CC'), ('kicks', 'VB'), ('everyone', 'NN'), ('else', 'RB'), ('off', 'IN'), ('.', '.')]\n"
     ]
    },
    {
     "name": "stdout",
     "output_type": "stream",
     "text": [
      "[('JOIN', 'NNP'), ('PART', 'NNP'), ('ugh', 'IN'), ('thanks', 'NNS'), ('U56', 'NNP'), ('lol', 'NN'), ('where', 'WRB'), ('are', 'VBP'), ('you', 'PRP'), ('U59', 'NNP'), ('JOIN', 'NNP'), ('.', '.')]\n",
      "[('ACTION', 'NNP'), ('falls', 'VBZ'), ('on', 'IN'), ('the', 'DT'), ('floor', 'NN'), ('.', '.')]\n",
      "[('haha', 'NN'), ('!', '.')]\n",
      "[('im', 'NNS'), ('so', 'RB'), ('addicted', 'JJ'), ('to', 'TO'), ('her', 'PRP$'), ('beuty', 'NN'), ('touch', 'NN'), ('U101', 'NNP'), (',', ','), ('I', 'PRP'), ('have', 'VBP'), ('e-herpes', 'JJ'), ('PART', 'NNP'), ('im', 'NN'), ('listen', 'NN'), ('to', 'TO'), ('dis', 'VB'), ('song', 'JJ'), ('boy', 'NN'), ('jumps', 'NNS'), ('in', 'IN'), ('the', 'DT'), ('beanbag', 'NN'), ('how', 'WRB'), ('is', 'VBZ'), ('everbody', 'JJ'), ('heya', 'JJ'), ('U50', 'NNP'), ('catches', 'NNS'), ('U1', 'NNP'), ('JOIN', 'NNP'), ('was', 'VBD'), ('dat', 'VBG'), ('a', 'DT'), ('racist', 'JJ'), ('comment', 'NN'), ('wb', 'NN'), ('U61', 'NNP'), ('beanbag', 'NN'), ('did', 'VBD'), ('U3', 'NNP'), ('give', 'VB'), ('you', 'PRP'), ('those', 'DT'), ('U102', 'NNP'), ('?', '.')]\n",
      "[('PART', 'NN'), ('hi', 'NN'), ('U92', 'NNP'), ('any', 'DT'), ('guys', 'NNS'), ('wan', 'VBP'), ('na', 'TO'), ('pm', 'VB'), ('a', 'DT'), ('girl', 'NN'), ('like', 'IN'), ('me', 'PRP'), ('.', '.')]\n",
      "[('ACTION', 'NNP'), ('thinks', 'VBZ'), ('she', 'PRP'), ('needs', 'VBZ'), ('to', 'TO'), ('change', 'VB'), ('her', 'PRP$'), ('pic', 'NN'), ('back', 'RB'), ('to', 'TO'), ('the', 'DT'), ('old', 'JJ'), ('one', 'CD'), (',', ','), ('too', 'RB'), ('many', 'JJ'), ('damn', 'NNS'), ('PMs', 'NNP'), ('lol', 'NN'), ('.', '.')]\n",
      "[('itz', 'VB'), ('a', 'DT'), ('seat', 'NN'), ('...', ':'), ('eh', 'NN'), ('i', 'NN'), ('dont', 'VBP'), ('get', 'VB'), ('around', 'RB'), ('enough', 'RB'), ('to', 'TO'), ('give', 'VB'), ('anyone', 'NN'), ('anything', 'NN'), ('PART', 'NNP'), ('lol', 'VBZ'), ('JOIN', 'NNP'), ('PART', 'NNP'), ('U66', 'NNP'), ('...', ':'), ('...', ':'), ('if', 'IN'), ('i', 'VBN'), ('felt', 'VBD'), ('a', 'DT'), ('rock', 'NN'), ('hard', 'JJ'), ('cock', 'NN'), ('in', 'IN'), ('my', 'PRP$'), ('mouth', 'NN'), (',', ','), ('i', 'VB'), ('owuldnt', 'MD'), ('be', 'VB'), ('in', 'IN'), ('here', 'RB'), ('oh', 'JJ'), ('sexy', 'JJ'), ('love', 'NN'), ('.', '.')]\n",
      "[('ACTION', 'NNP'), ('stretches', 'VBZ'), ('out', 'RP'), ('on', 'IN'), ('the', 'DT'), ('couch', 'NN'), ('and', 'CC'), ('sighs', 'NNS'), ('happily', 'RB'), ('.', '.')]\n",
      "[('U3', 'NN'), ('did', 'VBD'), ('you', 'PRP'), ('physically', 'RB'), ('meet', 'VB'), ('neysa', 'NNS'), ('?', '.')]\n",
      "[('a', 'DT'), ('bag', 'NN'), ('full', 'JJ'), ('o', 'NN'), ('beans', 'NNS'), ('girl', 'VBP'), ('take', 'VB'), ('make', 'NN'), ('u', 'JJ'), ('do', 'NN'), ('.', '.')]\n",
      "[('ACTION', 'NNP'), ('saunders', 'NNS'), ('back', 'RB'), ('in', 'IN'), ('.', '.')]\n",
      "[('PART', 'NN'), ('make', 'VB'), ('me', 'PRP'), ('run', 'VB'), ('to', 'TO'), ('you', 'PRP'), ('omg', 'VBP'), ('newp', 'JJ'), ('Im', 'NNP'), ('so', 'IN'), ('off', 'IN'), ('PART', 'NNP'), ('making', 'VBG'), ('love', 'NN'), ('to', 'TO'), ('you', 'PRP'), ('happy', 'JJ'), ('birthday', 'JJ'), ('shane', 'NN'), ('!', '.'), ('!', '.'), ('!', '.'), ('!', '.'), ('!', '.'), ('!', '.'), ('!', '.'), ('!', '.'), ('!', '.'), ('!', '.'), ('!', '.'), ('!', '.'), ('!', '.'), ('!', '.'), ('!', '.'), ('!', '.'), ('!', '.'), ('!', '.'), ('!', '.'), ('!', '.'), ('!', '.'), ('!', '.'), ('!', '.'), ('!', '.'), ('!', '.'), ('!', '.'), ('!', '.')]\n",
      "[('which', 'WDT'), ('lady', 'NN'), ('wants', 'VBZ'), ('to', 'TO'), ('pm', 'VB'), ('me', 'PRP'), ('JOIN', 'NNP'), ('SExy', 'NNP'), ('love', 'VBP'), ('so', 'RB'), ('yeah', 'JJ'), ('otay', 'NN'), ('is', 'VBZ'), ('a', 'DT'), ('beanbag', 'NN'), ('a', 'DT'), ('racist', 'NN'), ('comment', 'NN'), ('?', '.')]\n",
      "[('you', 'PRP'), ('fat', 'VBP'), ('mother', 'RB'), ('#', '#'), ('#', '#'), ('#', '#'), ('#', '#'), ('!', '.'), ('!', '.'), ('!', '.'), ('!', '.'), ('!', '.'), ('!', '.'), ('!', '.'), ('!', '.'), ('!', '.'), ('!', '.'), ('!', '.'), ('!', '.'), ('!', '.')]\n",
      "[('was', 'VBD'), ('supposed', 'VBN'), ('to', 'TO'), ('but', 'CC'), ('never', 'RB'), ('happend', 'VB'), ('why', 'WRB'), ('?', '.')]\n",
      "[('shorty', 'NN'), ('like', 'IN'), ('miiiiiinnnnnnnnnneeeeeeee', 'NN'), ('i', 'NN'), ('love', 'VBP'), ('...', ':'), ('...', ':'), ('...', ':'), ('...', ':'), ('...', ':'), ('...', ':'), ('..', 'VBZ'), ('oh', 'JJ'), ('im', 'NN'), ('jus', 'NN'), ('curious', 'JJ'), ('is', 'VBZ'), ('all', 'DT'), ('i', 'JJ'), ('dunno', 'NN'), ('is', 'VBZ'), ('it', 'PRP'), ('?', '.')]\n",
      "[('PART', 'NN'), ('JOIN', 'NNP'), ('me', 'PRP'), ('Yeah', 'NNP'), ('Zyban', 'NNP'), ('I', 'PRP'), ('have', 'VBP'), ('heard', 'VBN'), ('of', 'IN'), ('U35', 'NNP'), ('...', ':'), ('i', 'VBP'), ('need', 'VBP'), ('...', ':'), ('...', ':'), ('...', ':'), ('...', ':'), ('...', ':'), ('...', ':'), ('.', '.'), ('JOIN', 'NNP'), ('JOIN', 'NNP'), ('cool', 'JJ'), ('cool', 'NN'), ('hey', 'NN'), ('U110', 'NNP'), ('!', '.')]\n",
      "[('someone', 'NN'), ('said', 'VBD'), ('it', 'PRP'), ('was', 'VBD'), ('I', 'PRP'), ('thought', 'VBD'), ('i', 'NN'), ('desire', 'NN'), ('...', ':'), ('...', ':'), ('...', ':'), ('...', ':'), ('...', ':'), ('...', ':'), ('like', 'IN'), ('dude', 'NN'), ('shane', 'NN'), ('ate', 'VB'), ('one', 'CD'), ('too', 'RB'), ('many', 'JJ'), ('cakes', 'NNS'), ('today', 'NN'), ('i', 'VBP'), ('think', 'VBP'), ('shorty', 'JJ'), ('lllllllliiiiiiiiiikeee', 'NN'), ('mine', 'NN'), ('JOIN', 'NNP'), ('ok', 'NN'), ('i', 'NNS'), ('need', 'VBP'), ('to', 'TO'), ('put', 'VB'), ('more', 'JJR'), ('clothes', 'NNS'), ('on', 'IN'), ('JOIN', 'NNP'), ('brb', 'NN'), ('miiiiiiiiiiiiinnnnnnnnnnneeeeeeeeee', 'NN'), ('aiiiiiiiiiiiiiiiiiiiiiiii', 'NN'), ('jesus', 'NN'), ('loves', 'VBZ'), ('you', 'PRP'), ('like', 'IN'), ('mmmmmmmmiiiiiiiiinnnnnnnnneeeeeeee', 'NNS'), ('JOIN', 'NNP'), ('JOIN', 'NNP'), ('JESUS', 'NNP'), ('LOVES', 'NNP'), ('YOU', 'NNP'), ('JOIN', 'NNP'), ('its', 'PRP$'), ('11', 'CD'), ('hi', 'NN'), ('all', 'DT'), ('woooooooooaaaahhhhhhhhhhhh', 'VBP'), ('hi', 'JJ'), ('U115', 'NNP'), ('firs', 'NN'), ('time', 'NN'), ('using', 'VBG'), ('this', 'DT'), ('site', 'NN'), ('he', 'PRP'), ('did', 'VBD'), ('and', 'CC'), ('he', 'PRP'), ('killed', 'VBD'), ('a', 'DT'), ('kitten', 'NN'), ('and', 'CC'), ('said', 'VBD'), ('that', 'IN'), ('that', 'DT'), ('would', 'MD'), ('be', 'VB'), ('me', 'PRP'), ('if', 'IN'), ('I', 'PRP'), ('ever', 'RB'), ('told', 'VBD'), (':', ':'), ('-', ':'), ('(', '('), ('welcome', 'JJ'), ('to', 'TO'), ('my', 'PRP$'), ('room', 'NN'), ('JOIN', 'NNP'), ('.', '.')]\n",
      "[('2', 'CD'), ('******', 'JJ'), ('Welcome', 'NNP'), ('to', 'TO'), ('all', 'DT'), ('who', 'WP'), ('just', 'RB'), ('ed', 'VBP'), ('us', 'PRP'), ('!', '.'), ('!', '.'), ('!', '.')]\n",
      "[('******', 'NN'), ('.', '.')]\n",
      "[('hello', 'JJ'), ('PART', 'NNP'), ('JOIN', 'NNP'), ('PART', 'NNP'), ('everyone', 'NN'), ('JOIN', 'NNP'), ('hey', 'NN'), ('U95', 'NNP'), ('JOIN', 'NNP'), ('PART', 'NNP'), ('hi', 'VBZ'), ('U113', 'NNP'), ('PART', 'NNP'), ('JOIN', 'NNP'), ('PART', 'NNP'), ('JOIN', 'NNP'), ('PART', 'NNP'), ('i', 'VB'), ('love', 'VBP'), ('each', 'DT'), ('and', 'CC'), ('every', 'DT'), ('one', 'CD'), ('of', 'IN'), ('yall', 'NN'), ('U8', 'NNP'), ('heyyyyyy', 'NN'), ('hello', 'VBD'), ('welome', 'NN'), ('to', 'TO'), ('my', 'PRP$'), ('room', 'NN'), ('lmfao', 'NN'), ('mike', 'IN'), ('PART', 'NNP'), ('i', 'NN'), ('would', 'MD'), ('dump', 'VB'), ('you', 'PRP'), ('in', 'IN'), ('cookies', 'NNS'), ('and', 'CC'), ('cream', 'VB'), ('PART', 'NNP'), ('PART', 'NNP'), ('with', 'IN'), ('some', 'DT'), ('cherry', 'NN'), ('on', 'IN'), ('toop', 'NN'), ('of', 'IN'), ('yall', 'NN'), ('this', 'DT'), ('song', 'NN'), ('has', 'VBZ'), ('got', 'VBD'), ('ta', 'NNS'), ('go', 'VB'), ('PART', 'NNP'), ('yawns', 'VB'), ('what', 'WP'), ('song', 'NN'), ('.', '.')]\n",
      "[('ACTION', 'NNP'), ('falls', 'VBZ'), ('asleep', 'RB'), ('on', 'IN'), ('the', 'DT'), ('couch', 'NN'), ('.', '.')]\n",
      "[('we', 'PRP'), ('w', 'VBP'), ('ere', 'RB'), ('just', 'RB'), ('talking', 'VBG'), ('about', 'IN'), ('jesus', 'NN'), ('trials', 'NNS'), ('throught', 'VBD'), ('the', 'DT'), ('desert', 'NN'), ('and', 'CC'), ('the', 'DT'), ('temptations', 'NNS'), ('that', 'WDT'), ('pursued', 'VBD'), ('him', 'PRP'), ('goodbye', 'VB'), ('to', 'TO'), ('romance', 'VB'), ('PART', 'NNP'), ('U108', 'NNP'), ('..', 'NNP'), ('this', 'DT'), ('ai', 'VBP'), (\"n't\", 'RB'), ('your', 'PRP$'), ('room', 'NN'), ('.', '.')]\n",
      "[('too', 'RB'), ('slow', 'JJ'), ('fo', 'NN'), ('me', 'PRP'), ('one', 'CD'), ('two', 'CD'), ('three', 'CD'), ('jesus', 'NN'), ('loves', 'VBZ'), ('me', 'PRP'), ('.', '.')]\n",
      "[('ACTION', 'NNP'), ('is', 'VBZ'), ('backfrontsidewaysandallaroundtheworld', 'NN'), ('.', '.')]\n",
      "[('is', 'VBZ'), ('there', 'EX'), ('a', 'DT'), ('chat', 'NN'), ('room', 'NN'), ('here', 'RB'), ('that', 'IN'), ('deals', 'NNS'), ('with', 'IN'), ('sports', 'NNS'), ('and', 'CC'), ('fitness', 'NN'), ('or', 'CC'), ('not', 'RB'), ('three', 'CD'), ('four', 'CD'), ('Hi', 'NNP'), ('all', 'DT'), ('does', 'VBZ'), ('anyone', 'NN'), ('want', 'VB'), ('to', 'TO'), ('chat', 'VB'), ('with', 'IN'), ('a', 'DT'), ('23', 'CD'), ('f', 'NN'), ('from', 'IN'), ('ontario', 'NN'), ('canada', 'NN'), ('he', 'PRP'), ('loves', 'VBZ'), ('you', 'PRP'), ('more', 'JJR'), ('JOIN', 'JJ'), ('sports', 'NNS'), ('?', '.')]\n",
      "[('<', 'NN'), ('perk', 'NN'), ('>', 'NNP'), ('hey', 'NN'), ('U115', 'NNP'), ('PART', 'NNP'), ('hi', 'VBZ'), ('hi', 'PRP$'), ('U118', 'NNP'), ('.', '.')]\n",
      "[('ACTION', 'NNP'), ('beats', 'VBZ'), ('herself', 'PRP'), ('over', 'IN'), ('the', 'DT'), ('head', 'NN'), ('with', 'IN'), ('a', 'DT'), ('bible', 'JJ'), ('``', '``'), ('make', 'VB'), ('it', 'PRP'), ('stop', 'VB'), ('make', 'VB'), ('it', 'PRP'), ('stop', 'VB'), ('!', '.'), ('``', '``')]\n",
      "[('.', '.')]\n",
      "[('JOIN', 'NNP'), ('lol', 'VBZ'), ('welcome', 'JJ'), ('to', 'TO'), ('my', 'PRP$'), ('room', 'NN'), ('hey', 'NN'), ('U38', 'NNP'), ('hi', 'NN'), ('U108', 'NNP'), ('U108', 'NNP'), ('...', ':'), ('we', 'PRP'), ('w', 'VBP'), ('ere', 'RB'), ('just', 'RB'), ('talking', 'VBG'), ('about', 'IN'), ('jesus', 'NN'), ('trials', 'NNS'), ('throught', 'VBD'), ('the', 'DT'), ('desert', 'NN'), ('and', 'CC'), ('the', 'DT'), ('temptations', 'NNS'), ('that', 'WDT'), ('pursued', 'VBD'), ('him', 'PRP'), ('yeah', 'VB'), ('its', 'PRP$'), ('called', 'VBN'), ('#', '#'), ('prideIsland', 'NN'), ('type', 'NN'), ('/', 'NNP'), ('#', '#'), ('prideisland', 'VB'), ('its', 'PRP$'), ('all', 'DT'), ('about', 'IN'), ('the', 'DT'), ('fitness', 'NN'), ('is', 'VBZ'), ('a', 'DT'), ('christian', 'JJ'), ('but', 'CC'), ('is', 'VBZ'), ('aggravated', 'VBN'), ('at', 'IN'), ('denomination', 'NN'), ('churches', 'NNS'), ('LOL', 'NNP'), ('U95', 'NNP'), ('JOIN', 'NNP'), ('U38', 'NNP'), ('are', 'VBP'), ('you', 'PRP'), ('in', 'IN'), ('welcome', 'NN'), ('to', 'TO'), ('black', 'JJ'), ('paradis', 'NN'), ('make', 'VB'), ('it', 'PRP'), ('go', 'VB'), ('away', 'RP'), ('?', '.')]\n",
      "[('JOIN', 'NNP'), ('PART', 'NNP'), ('hi', 'VBZ'), ('U116', 'NNP'), ('why', 'WRB'), ('dontcha', 'NN'), ('go', 'NN'), ('and', 'CC'), ('try', 'VB'), ('to', 'TO'), ('find', 'VB'), ('it', 'PRP'), ('for', 'IN'), ('him', 'PRP'), ('U108', 'NNP'), (':', ':'), ('-', ':'), (')', ')'), ('.', '.')]\n",
      "[('ACTION', 'NNP'), ('sets', 'VBZ'), ('up', 'RP'), ('his', 'PRP$'), ('altar', 'NN'), ('to', 'TO'), ('summon', 'VB'), ('lucifuge', 'NN'), ('.', '.')]\n",
      "[('welcome', 'NN'), ('to', 'TO'), ('my', 'PRP$'), ('room', 'NN'), ('hi', 'NN'), ('U1', 'NNP'), ('LOL', 'NNP'), ('U65', 'NNP'), ('fitness', 'NN'), ('my', 'PRP$'), ('asss', 'NN'), ('...', ':'), ('.', '.'), ('thats', 'VB'), ('the', 'DT'), ('part', 'NN'), ('i', 'NN'), ('felt', 'VBD'), ('most', 'RBS'), ('after', 'IN'), ('that', 'DT'), ('workout', 'NN'), ('lmao', 'VBZ'), ('U65', 'IN'), ('we', 'PRP'), ('w', 'VBP'), ('ere', 'RB'), ('just', 'RB'), ('talking', 'VBG'), ('about', 'IN'), ('jesus', 'NN'), ('trials', 'NNS'), ('throught', 'VBD'), ('the', 'DT'), ('desert', 'NN'), ('and', 'CC'), ('the', 'DT'), ('temptations', 'NNS'), ('that', 'WDT'), ('pursued', 'VBD'), ('him', 'PRP'), ('hi', 'VB'), ('again', 'RB'), ('U39', 'NNP'), ('what', 'WP'), ('the', 'DT'), ('shit', 'NN'), ('is', 'VBZ'), ('lucifuge', 'VBN'), ('?', '.')]\n",
      "[('where', 'WRB'), ('you', 'PRP'), ('at', 'IN'), ('.', '.')]\n",
      "[('ACTION', 'NNP'), ('eyes', 'VBZ'), ('the', 'DT'), ('loser', 'NN'), ('that', 'WDT'), ('seems', 'VBZ'), ('to', 'TO'), ('think', 'VB'), ('he', 'PRP'), ('paid', 'VBD'), ('the', 'DT'), ('registration', 'NN'), ('fee', 'NN'), ('for', 'IN'), ('this', 'DT'), ('room', 'NN'), ('.', '.')]\n",
      "[('PART', 'NN'), ('LMAO', 'NNP'), ('U53', 'NNP'), ('PART', 'NNP'), ('lol', 'VBZ'), ('@', 'NNP'), ('lucifuge', 'NN'), ('so', 'RB'), (',', ','), ('what', 'WP'), ('have', 'VBP'), ('we', 'PRP'), ('disocvered', 'VBN'), ('my', 'PRP$'), ('children', 'NNS'), ('?', '.')]\n",
      "[('satan', 'NN'), ('in', 'IN'), ('my', 'PRP$'), ('home', 'NN'), ('?', '.')]\n"
     ]
    },
    {
     "name": "stdout",
     "output_type": "stream",
     "text": [
      "[('lol', 'NN'), ('JOIN', 'NNP'), ('LMAO', 'NNP'), ('U65', 'NNP'), ('you', 'PRP'), ('mean', 'VBP'), ('lucifer', 'JJR'), ('hi', 'NN'), ('U120', 'NNP'), ('where', 'WRB'), ('is', 'VBZ'), ('your', 'PRP$'), ('home', 'NN'), ('welcome', 'NN'), ('to', 'TO'), ('my', 'PRP$'), ('room', 'NN'), ('in', 'IN'), ('hell', 'NN'), ('JOIN', 'NNP'), ('or', 'CC'), ('lucy-fur', 'JJ'), ('LOL', 'NNP'), ('in', 'IN'), ('Iowa', 'NNP'), ('i', 'NN'), ('presume', 'VBP'), ('JOIN', 'NNP'), ('we', 'PRP'), ('were', 'VBD'), ('just', 'RB'), ('talking', 'VBG'), ('about', 'IN'), ('jesus', 'NN'), ('trials', 'NNS'), ('throught', 'VBD'), ('the', 'DT'), ('desert', 'NN'), ('and', 'CC'), ('the', 'DT'), ('temptations', 'NNS'), ('that', 'WDT'), ('pursued', 'VBD'), ('him', 'PRP'), ('ok', 'JJ'), ('ugh', 'NN'), ('.', '.')]\n",
      "[('hello', 'NN'), ('U102', 'NNP'), ('do', 'VBP'), ('you', 'PRP'), ('not', 'RB'), ('take', 'VB'), ('private', 'JJ'), ('messages', 'NNS'), ('hey', 'VBP'), ('U108', 'NNP'), ('...', ':'), ('wrong', 'JJ'), ('room', 'NN'), ('hi', 'NN'), ('U120', 'NNP'), ('PART', 'NNP'), (':', ':'), ('P', 'NNP'), ('hi', 'VBZ'), ('U7', 'NNP'), ('lol', 'NN'), ('hi', 'NN'), ('U7', 'NNP'), ('thanks', 'NNS'), ('goodness', 'NN'), ('lmao', 'VBP'), ('-s', 'NNP'), ('woooohoooo', 'NN'), ('please', 'NN'), ('do', 'VBP'), (\"n't\", 'RB'), ('beat', 'VB'), ('me', 'PRP'), ('...', ':'), ('with', 'IN'), ('your', 'PRP$'), ('bible', 'JJ'), (':', ':'), (')', ')'), ('ahhhhhhhhhhhhhh', 'VBP'), ('finally', 'RB'), ('!', '.')]\n",
      "[('ok', 'JJ'), ('im', 'NN'), ('back', 'RB'), ('hi', 'NN'), ('again', 'RB'), ('U39', 'NNP'), ('hey', 'NN'), ('U7', 'NNP'), ('front', 'NN'), ('wb', 'NN'), ('U28', 'NNP'), ('PART', 'NNP'), ('hey', 'VBZ'), ('U92', 'NNP'), ('if', 'IN'), ('you', 'PRP'), ('dont', 'VBP'), ('beat', 'VB'), ('me', 'PRP'), ('with', 'IN'), ('your', 'PRP$'), ('torah', 'JJ'), ('PART', 'NNP'), ('wb', 'NN'), ('U28', 'NNP'), ('O.o', 'NNP'), ('Teck', 'NNP'), ('n9ne', 'NN'), ('is', 'VBZ'), ('back', 'JJ'), ('homies', 'NNS'), ('PART', 'NNP'), ('PART', 'NNP'), ('dont', 'VBZ'), ('fck', 'NN'), ('with', 'IN'), ('the', 'DT'), ('torah', 'NN'), ('U3', 'NNP'), ('JOIN', 'NNP'), ('chattanooga', 'NN'), ('is', 'VBZ'), ('an', 'DT'), ('hour', 'NN'), ('from', 'IN'), ('me', 'PRP'), ('U7', 'NNP'), ('thanks', 'NNS'), ('U7', 'NNP'), ('and', 'CC'), ('U35', 'NNP'), ('(', '('), ('dahlin', 'NN'), (')', ')'), ('he', 'PRP'), (\"'s\", 'VBZ'), ('the', 'DT'), ('prime', 'JJ'), ('minister', 'NN'), ('of', 'IN'), ('hell', 'NN'), ('google', 'NN'), ('it', 'PRP'), ('lol', 'VBZ'), ('U95', 'NNP'), ('OMG', 'NNP'), ('U3', 'NNP'), ('i', 'NN'), ('would', 'MD'), ('never', 'RB'), ('do', 'VB'), ('that', 'IN'), ('..', 'VB'), ('i', 'NNS'), ('do', 'VBP'), (\"n't\", 'RB'), ('chat', 'VB'), ('religion', 'NN'), ('dont', 'NN'), ('fck', 'NN'), ('with', 'IN'), ('the', 'DT'), ('bible', 'JJ'), ('U95', 'NNP'), ('kewl', 'NN'), ('U39', 'NNP'), ('JOIN', 'NNP'), ('.', '.')]\n",
      "[('ACTION', 'NNP'), ('is', 'VBZ'), ('never', 'RB'), ('wrong', 'JJ'), ('.', '.')]\n",
      "[('JOIN', 'NNP'), ('well', 'RB'), ('...', ':'), ('..', 'NNP'), ('JOIN', 'NNP'), ('yep', 'NN'), ('JOIN', 'NNP'), ('well', 'RB'), ('n', 'RB'), ('othing', 'VBG'), ('JOIN', 'NNP'), ('HI', 'NNP'), ('U56', 'NNP'), ('do', 'VBP'), ('any', 'DT'), ('women', 'NNS'), ('wan', 'VBP'), ('na', 'TO'), ('chat', 'VB'), ('?', '.')]\n",
      "[('the', 'DT'), ('worst', 'JJS'), ('that', 'WDT'), ('would', 'MD'), ('happen', 'VB'), ('is', 'VBZ'), ('id', 'JJ'), ('get', 'NN'), ('burned', 'VBN'), ('to', 'TO'), ('the', 'DT'), ('stake', 'NN'), ('hey', 'NN'), ('y', 'NN'), (\"'\", \"''\"), ('all', 'DT'), ('PART', 'NNP'), ('it', 'PRP'), ('goes', 'VBZ'), ('both', 'DT'), ('ways', 'NNS'), ('dear', 'VBP'), ('hi', 'JJ'), ('U104', 'NNP'), ('JOIN', 'NNP'), ('JOIN', 'NNP'), ('PART', 'NNP'), ('yes', 'UH'), (',', ','), ('it', 'PRP'), ('does', 'VBZ'), ('go', 'VB'), ('both', 'DT'), ('ways', 'NNS'), ('..', 'VBP'), ('JOIN', 'NNP'), ('and', 'CC'), ('i', 'VB'), ('know', 'VBP'), ('you', 'PRP'), ('dont', 'VBP'), ('U35', 'NNP'), ('Chica', 'NNP'), ('PART', 'NNP'), ('PART', 'NNP'), ('nice', 'JJ'), ('pic', 'NN'), ('U7', 'NNP'), ('ty', 'NN'), ('U39', 'NNP'), ('.', '.')]\n",
      "[('ACTION', 'NNP'), ('snores', 'VBZ'), ('on', 'IN'), ('the', 'DT'), ('couch', 'NN'), ('.', '.')]\n",
      "[('i', 'NN'), (\"'ll\", 'MD'), ('dabble', 'VB'), ('in', 'IN'), ('a', 'DT'), ('tad', 'NN'), ('of', 'IN'), ('politics', 'NNS'), ('once', 'RB'), ('in', 'IN'), ('awhile', 'NN'), ('but', 'CC'), ('nevah', 'JJ'), ('religion', 'NN'), ('..', 'VBD'), ('it', 'PRP'), (\"'s\", 'VBZ'), ('too', 'RB'), ('touchy', 'JJ'), ('a', 'DT'), ('subject', 'JJ'), ('JOIN', 'NNP'), ('yvw', 'NN'), ('how', 'WRB'), ('have', 'VBP'), ('u', 'RB'), ('been', 'VBN'), ('doing', 'VBG'), ('U56', 'NNP'), ('..', 'NNP'), ('been', 'VBN'), ('awhile', 'JJ'), ('since', 'IN'), ('chatted', 'VBN'), ('JOIN', 'NNP'), ('JOIN', 'NNP'), ('where', 'WRB'), ('ever', 'RB'), ('you', 'PRP'), ('go', 'VBP'), ('whatever', 'WDT'), ('you', 'PRP'), ('do', 'VBP'), ('ill', 'RB'), ('be', 'VB'), ('here', 'RB'), ('waiting', 'VBG'), ('for', 'IN'), ('you', 'PRP'), ('very', 'RB'), ('much', 'RB'), ('so', 'IN'), ('practically', 'RB'), ('have', 'VBP'), ('to', 'TO'), ('put', 'VB'), ('the', 'DT'), ('room', 'NN'), ('on', 'IN'), ('moderation', 'NN'), ('for', 'IN'), ('that', 'DT'), ('but', 'CC'), ('sports', 'NNS'), ('..', 'RB'), ('now', 'RB'), ('that', 'DT'), (\"'s\", 'VBZ'), ('where', 'WRB'), ('i', 'JJ'), ('get', 'VBP'), ('the', 'DT'), ('label', 'NN'), ('``', '``'), ('hater', 'NN'), ('``', '``'), ('...', ':'), ('hmph', 'NN'), ('!', '.'), ('!', '.')]\n",
      "[('PART', 'NN'), ('JOIN', 'NNP'), ('trance', 'NN'), ('boi', 'NN'), ('yep', 'NN'), ('@', 'NNP'), ('religion', 'NN'), ('JOIN', 'NNP'), ('PART', 'NNP'), ('JOIN', 'NNP'), ('MODE', 'NNP'), ('#', '#'), ('talkcity_adults', 'NNS'), ('+', 'VBP'), ('o', 'JJ'), ('U132', 'NNP'), ('.', '.')]\n",
      "[('12', 'CD'), ('(', '('), ('(', '('), ('(', '('), ('(', '('), ('(', '('), ('..', '$'), ('4', 'CD'), ('U132', 'NNP'), ('..', 'NNP'), ('12', 'CD'), (')', ')'), (')', ')'), (')', ')'), (')', ')'), (')', ')'), ('JOIN', 'NNP'), ('mmm', 'NN'), ('...', ':'), ('taste', 'NN'), ('like', 'IN'), ('chicken', 'NN'), ('U132', 'NN'), ('!', '.'), ('!', '.'), ('!', '.')]\n",
      "[('tatatatnanaantatat', 'NN'), ('.', '.')]\n",
      "[('2', 'CD'), ('Hi', 'NNP'), ('U133', 'NNP'), ('!', '.')]\n",
      "[('Welcome', 'NNP'), ('to', 'TO'), ('#', '#'), ('talkcity_adults', 'NNS'), ('!', '.')]\n",
      "[('hey', 'NN'), ('U132', 'NNP'), ('HI', 'NNP'), ('U132', 'NNP'), ('hiya', 'NN'), ('U132', 'NNP'), ('do', 'VBP'), ('u', 'JJ'), ('PART', 'NNP'), ('do', 'VBP'), ('or', 'CC'), ('die', 'VB'), ('.', '.')]\n",
      "[('ACTION', 'NNP'), ('swing', 'NN'), ('.', '.')]\n",
      "[('JOIN', 'NNP'), ('mmmmmmmmmmmmm', 'NN'), ('lovely', 'RB'), ('nick', 'JJ'), ('there', 'RB'), ('LOL', 'NNP'), ('JOIN', 'NNP'), ('hey', 'NN'), ('U132', 'NNP'), ('(', '('), ('(', '('), ('(', '('), ('(', '('), ('(', '('), ('(', '('), ('(', '('), ('(', '('), ('(', '('), ('(', '('), ('(', '('), ('U3', 'NNP'), (')', ')'), (')', ')'), (')', ')'), (')', ')'), (')', ')'), (')', ')'), (')', ')'), (')', ')'), (')', ')'), (')', ')'), (')', ')'), (')', ')'), (')', ')'), ('mmmomom', 'VBZ'), ('how', 'WRB'), ('come', 'JJ'), ('everything', 'NN'), ('tastes', 'NNS'), ('like', 'IN'), ('chicken', 'NN'), ('but', 'CC'), ('sometimes', 'RB'), ('chicken', 'JJ'), ('doesnt', 'JJ'), ('taste', 'NN'), ('like', 'IN'), ('chcken', 'NN'), ('hey', 'NN'), ('U1', 'NNP'), ('!', '.'), ('!', '.'), ('!', '.')]\n",
      "[('PART', 'NN'), ('hey', 'NN'), ('jeff', 'NN'), ('and', 'CC'), ('U104', 'NNP'), ('and', 'CC'), ('U35', 'NNP'), ('PART', 'NNP'), ('seminilla', 'NN'), ('party', 'NN'), ('at', 'IN'), ('silver', 'JJ'), ('crib', 'NN'), ('hey', 'NN'), ('U30', 'NNP'), ('!', '.'), ('!', '.'), ('!', '.'), ('!', '.')]\n",
      "[('PART', 'NN'), ('lol', 'VBZ'), ('it', 'PRP'), (\"'s\", 'VBZ'), ('the', 'DT'), ('matrix', 'NN'), (',', ','), ('out', 'IN'), ('of', 'IN'), ('wack', 'NN'), ('bring', 'NN'), ('drinks', 'NNS'), ('food', 'NN'), ('is', 'VBZ'), ('such', 'JJ'), ('a', 'DT'), ('wonderful', 'JJ'), ('thing', 'NN'), ('U12', 'NNP'), ('deop', 'NN'), ('MODE', 'NNP'), ('#', '#'), ('talkcity_adults', 'NNS'), ('-', ':'), ('o', 'NN'), ('U132', 'NNP'), ('PART', 'NNP'), ('vodka', 'VBZ'), ('brb', 'NN'), ('..', 'NNP'), ('popcorn', 'NN'), ('is', 'VBZ'), ('ready', 'JJ'), ('U132', 'IN'), (':', ':'), ('Are', 'NNP'), ('you', 'PRP'), ('a', 'DT'), ('man', 'NN'), ('or', 'CC'), ('a', 'DT'), ('woman', 'NN'), ('?', '.')]\n",
      "[('that', 'DT'), ('depends', 'VBZ'), ('if', 'IN'), ('neysa', 'DT'), (\"'s\", 'VBZ'), ('cooking', 'VBG'), ('it', 'PRP'), ('U102', 'NNP'), ('PART', 'NNP'), ('U30', 'NNP'), ('...', ':'), ('...', ':'), ('.', '.'), ('your', 'PRP$'), ('like', 'IN'), ('the', 'DT'), ('walmart', 'NN'), ('greeter', 'NN'), ('..', 'NNP'), ('only', 'RB'), ('time', 'NN'), ('i', 'JJ'), ('see', 'VBP'), ('you', 'PRP'), ('type', 'VBP'), ('is', 'VBZ'), ('when', 'WRB'), ('someone', 'NN'), ('comes', 'VBZ'), ('in', 'IN'), ('lol', 'JJ'), ('JOIN', 'NNP'), ('JOIN', 'NNP'), ('packs', 'NNS'), ('of', 'IN'), ('ciggareets', 'NNS'), ('brb', 'VBP'), ('hi', 'JJ'), ('U12', 'NNP'), ('you', 'PRP'), ('sexy', 'VBP'), ('bot', 'JJ'), ('JOIN', 'NNP'), ('and', 'CC'), ('ill', 'VB'), ('bring', 'VBG'), ('da', 'NNS'), ('weeeeeeeeeeeeeeeeeeeeeeeeed', 'VBP'), ('PART', 'NNP'), ('hahaha', 'NN'), ('U28', 'NN'), ('!', '.')]\n",
      "[('JOIN', 'NNP'), ('haha', 'NN'), ('i', 'NN'), ('love', 'VBP'), ('you', 'PRP'), ('JOIN', 'NNP'), ('nite', 'IN'), ('all', 'DT'), ('should', 'MD'), (\"n't\", 'RB'), ('dis', 'VB'), ('the', 'DT'), ('future', 'JJ'), ('wife', 'NN'), ('love', 'VB'), ('u', 'JJ'), ('too', 'RB'), ('i', 'JJ'), ('want', 'VBP'), ('you', 'PRP'), ('PART', 'NNP'), ('nite', 'CC'), ('U67', 'NNP'), ('hey', 'VBP'), ('U116', 'NNP'), ('!', '.')]\n",
      "[('.', '.')]\n",
      "[('2', 'CD'), ('Hi', 'NNP'), ('U31', 'NNP'), ('!', '.')]\n",
      "[('Welcome', 'NNP'), ('to', 'TO'), ('#', '#'), ('talkcity_adults', 'NNS'), ('!', '.')]\n",
      "[('PART', 'NN'), ('JOIN', 'NNP'), ('no', 'DT'), ('drug', 'NN'), ('talk', 'NN'), ('U91', 'NNP'), ('I', 'PRP'), ('told', 'VBD'), ('her', 'PRP'), ('I', 'PRP'), ('was', 'VBD'), ('gon', 'VBG'), ('na', 'RB'), ('teach', 'VB'), ('her', 'PRP$'), ('how', 'WRB'), ('to', 'TO'), ('cook', 'VB'), ('..', 'JJ'), ('turn', 'VB'), ('her', 'PRP$'), ('into', 'IN'), ('the', 'DT'), ('perfect', 'JJ'), ('lil', 'JJ'), ('housewife', 'NN'), ('for', 'IN'), ('ya', 'NN'), ('.', '.')]\n",
      "[('any', 'DT'), ('females', 'NNS'), ('want', 'VBP'), ('to', 'TO'), ('chat', 'VB'), ('?', '.')]\n",
      "[('25', 'CD'), ('m', 'NN'), ('canada', 'NN'), ('pm', 'IN'), ('me', 'PRP'), ('U59', 'NNP'), ('JOIN', 'NNP'), ('.', '.')]\n",
      "[('12', 'CD'), ('(', '('), ('(', '('), ('(', '('), ('(', '('), ('(', '('), ('..', '$'), ('4', 'CD'), ('U138', 'NNP'), ('..', 'NNP'), ('12', 'CD'), (')', ')'), (')', ')'), (')', ')'), (')', ')'), (')', ')'), ('so', 'RB'), ('i', 'JJ'), ('hear', 'VBP'), ('U56', 'NNP'), ('U1', 'NNP'), ('U12', 'NNP'), ('i', 'NN'), ('want', 'VBP'), ('your', 'PRP$'), ('bot', 'NN'), ('lol', 'NN'), ('ty', 'NN'), ('U1', 'NNP'), (':', ':'), ('D', 'NNP'), ('(', '('), ('(', '('), ('(', '('), ('(', '('), ('U3', 'NNP'), (')', ')'), (')', ')'), (')', ')'), (')', ')'), (')', ')'), ('yw', 'NN'), ('U3', 'NNP'), ('PART', 'NNP')]\n"
     ]
    }
   ],
   "source": [
    "#word tokenization and tagging\n",
    "tokens=[]\n",
    "from nltk.stem import PorterStemmer\n",
    "stemmer = PorterStemmer()\n",
    "for sentence in tokenizedstr:\n",
    "        words = nltk.word_tokenize(sentence)\n",
    "        #tokenizedwords=stemmer.stem(words)\n",
    "        tokens.append(words)\n",
    "        tokenizedwords=nltk.pos_tag(words)\n",
    "        print(tokenizedwords)"
   ]
  },
  {
   "cell_type": "markdown",
   "metadata": {},
   "source": [
    "# Identifying stems"
   ]
  },
  {
   "cell_type": "code",
   "execution_count": 31,
   "metadata": {},
   "outputs": [
    {
     "name": "stdout",
     "output_type": "stream",
     "text": [
      "Stemmed document:\n",
      "\n",
      "join u13 , welcom to #talkcity_adult ! . 4 pleas ask in the main room befor privat messag other !. you can find our rule at http thank for join us ! no rain here .. for a chang lol . action rub her ach belli . suppos to be sunni and 75 tomorrow lmao i love garlic notic u13 to #talkcity_adult , To get your own game / control bot for your chat room pleas contact dawnstar visit http://www.shadowbots.com paxil is help me , u70 . part thi edmonton / detroit game is goin to shit HI room my famili say it made me skin and bone part join part join how R U all do 2day may i pm you U7 ? gawd i need med that would make me skin and bone lol sure u69 no need to yell u19 what do you weigh now u70 .... 93 lb soakin wet ? realli ???? I talk to someon els who say she gain 30 lb while on paxil ! great till you bust cap on mah eye mang that good u56 , it help me too u56 but when i didnt take it which is now ~ u cant sleep eat , live paxil = danger ! breath ' ye U8 . action smewchi U3 's eye to make him feel better . join hi .. U3 part Hi u24 hi U3 join that whi im drink away the withdraw who did what to your eye ? . 12 (((((.. 4 u46 .. 12 ))))) anyon els from tennese here ty u35 better ssri 's out there girl part join well .. you 've gotta deal with the issu that caus your depress in the first place .. antidepress are n't a cure .. they 're just meant to help you while you deal with the real problem awww U3 you know i lubb ya honey :) join ohh .. withdrawl .. heyyyyyyyyy u78 :) hey u78 are n't you suppos to wean yourself off ? i need med like that now u56 join hiya u35 join hi u30 paxil ye ... yea well nobodi is gonna bring back my ex who die and those pill cost too much join paxil can be horrid yeah , u35 .. I just start paxil .. join uh oh .. part part did u take it U8 awww u70 i am so sorri honey :( tri zoloft or wellbutrin ( sp ? ) part part no I had a roomat who did though i tri those too U8 part just knock her out OK - can someon kick u66 for make obscen suggest in pm - and if u like I 'll post it in the room so we can all point and laugh at the moron is not on ani med neysa left bruis on me part lol how are you u46 chica ? that what it doe wellbutrin i tri when i quit smoke .. lmao i had 3 bout of hive .. smoke wa the last thing on my mind .. the itch and the swell wa horribl lol u28 .. control your woman ! join u dont want to live at all just sleep naw i do n't wanna join i 'm not that \" control \" shut up u39 wow .. I 've heard so mani opposit stori bout paxil .. one gain weight , anoth lost it .. one could n't sleep , anoth slept all the time ... neither am i just drug alcohol guess it affect differ peopl veri differ .. join ha just kid yeah it doe , they all do alway u56 look to be case by case u56 whi u70 join Id read up on it if I were you u56 part I 've been fine on it so far . I 've been sleep .. it what make us individu how long ? have n't been eat too much .. part u r not on med I am good , U3 .. how you doin tonight ? . action will never take wellbutrin again lol . part bye u70 part realli u35 ? whi ? my tummi is a bit upset , but noth seriou .. I can still eat . u56 yea i have slept like 5 hour thi week how long have you been take it u56 ? holi crap ! suck but ill get through it a week now , U8 . u70 probabl look like death join join yah it will take a few week for it to kick in join privmsg u13 how are you do tonight i 'm okay just movin file around and shit bore and time consum :) anti depress talk ? I want in ! how mean u28 lol hey ! lol u65 lol U8 i took it for smoke cessat .. lmao 2 1 / 2 week later i had 3 bout of bad hive .... had to get shot 3 time that week .. the swell and itch wa so bad didnt see you there it 's alreadi work .. my anxieti is down to near noth .. part life is a trip im leav well dayum u70 I 'm on it too yeah real excitin haha hi u65 heyyyyyyyyyi u65 honey *smewchies* you do n't eat you do n't sleep you live on alcohol , what can i say join your hot ? hey u35 join wellbutrin ? sinc when is wellbutrin use for that ? welcom to da real world ever hear of zyban ? ummm are you take anyth els with it u56 ? yea i stop take paxil a week ago no that 's wellbutrin join an peopl cri when we talk sport , ohh yeah talkin bout wantin to kill themself is much betta convo i 'll keep you awak for other reason u70 hi u91 u30 , nobodi 's talkin bout want to kill themselv . paxil , all antidepress for that matter take at least a few week to work sex take a deep breath think about till you let it go join part might as well u serious hurt my feel u28 , hiya u92 honey *smewchies* part not you u56 u30 shut up about it talkin bout sport make me wanna talk about kill myself :/ want to talk about kill myself make me wanna go play sport .. . it a viciou circl gosh mwah u35 lmao U3 part go detroit im go through enough tri not to take that crap lmao U3 part awww u92 *blush* u30 , do I sit in here and complain how bad my life suck and stuff ? I 'm on antidepress now , and I brought up the topic . sorri . lol U3 detroit suck hi U1 u70 ... i appolog hi cali is better u56 i said not you hi u26 okay . scroll up michigan suck noth suck part join norteno suck . action talk about masturb while depress . part thx , i guess u28 ~ u tri watch your ex die in front of u <-- bitch and complain about how bad her life ha been recent but i 'll stop now moan for no reason part I wa actual veri surpris that so mani peopl have been on these thing .. that an oxymoron .. oh wait I know how that facilit . action snicker . umm not gonna happen , but then again i do n't know what you 're talkin about u70 look at us babi look at us now lol if you wanna yak , pm me brb I have midget to watch im outta here :beer: where is everyon at chew gum he 's 2 feet tall part ta ta u70 part everi nite i pray i hope that u will stay . action is now lost . join part join babi look at us join u95 !! heyyyyyyyyyyyyyi u95 gurli :) hi babycakes ! ewww @ my pm .. part part U1 part hey u95 im bore u35 u92 part who are you u59 ? nick : u65 hey u95 lmao @ u65 lol hi u65 is yummylici part lol u65 dat guy that smoke that chronic . action drool on himself . ahh ok . action rub her belli . chronic = weed sticki icki got it lmao u65 chang it to wee u65 lol put it in a jar !!! hey u56 join is cuddlici duh hey u28 the name on my phone ha chang join huh ? that would be mean I just had a u65 moment it not rick jame anymor you know all the thing you can do with spit vinyl ? and thought I 'd share hahah ! hey u50 lmao u65 hey u95 im rich jame biatch it make a great lube is f**kalici in a pinch it now S & S swackhamm join join im rich biatch u30 oh lord .. whi ?!?!? join que mami join part u want me look at the last name :beer: jucilici . 12 (((((.. 4 u102 .. 12 ))))) u102 hey u101 ! yeah ... hey u100 and u99 hey u102 u102 im gold hiya u102 :) u102 's here ? ((((((((( U3 ))))))) hey U3 ! u95 hi all . 12 (((((.. 4 u95 .. 12 ))))) hey u30 hey u102 hey u102 hi u35 look at us now . 4 (((((((((((( . 6 U3 . 4 )))))))))))) part what is here ? lol i couldnt find you in the P 's what ? who ? hey U1 oh .. here is a crowd chat room lol hey u92 join part anyon guy wanna pm part Im from east LA im wit da 18st burp scuse you join lol fart how much it cost ? eitther the room is slow or im lag i still see my hello yeah i is u102 great to see you again did u fart cuz u blew me away lol brb join yep ohhh sexi love part girl that make u do join hey u106 ! part u101 do n't PM without ask come run back to u sexi love . action flop over on the couch and kick everyon els off . join part ugh thank u56 lol where are you u59 join . action fall on the floor . haha ! im so addict to her beuti touch u101 , I have e-herp part im listen to di song boy jump in the beanbag how is everbodi heya u50 catch U1 join wa dat a racist comment wb u61 beanbag did U3 give you those u102 ? part hi u92 ani guy wanna pm a girl like me . action think she need to chang her pic back to the old one , too mani damn pm lol . itz a seat ... eh i dont get around enough to give anyon anyth part lol join part u66 ...... if i felt a rock hard cock in my mouth , i owuldnt be in here oh sexi love . action stretch out on the couch and sigh happili . U3 did you physic meet neysa ? a bag full o bean girl take make u do . action saunder back in . part make me run to you omg newp Im so off part make love to you happi birthday shane !!!!!!!!!!!!!!!!!!!!!!!!!!! which ladi want to pm me join sexi love so yeah otay is a beanbag a racist comment ? you fat mother #### !!!!!!!!!!!!! wa suppos to but never happend whi ? shorti like miiiiiinnnnnnnnnneeeeeee i love .................... oh im ju curiou is all i dunno is it ? part join me yeah zyban I have heard of u35 ... i need ................... join join cool cool hey u110 ! someon said it wa I thought i desir .................. like dude shane ate one too mani cake today i think shorti lllllllliiiiiiiiiikee mine join ok i need to put more cloth on join brb miiiiiiiiiiiiinnnnnnnnnnneeeeeeeee aiiiiiiiiiiiiiiiiiiiiiiii jesu love you like mmmmmmmmiiiiiiiiinnnnnnnnneeeeeee join join jesu love you join it 11 hi all woooooooooaaaahhhhhhhhhhhh hi u115 fir time use thi site he did and he kill a kitten and said that that would be me if I ever told :-( welcom to my room join . 2 ****** welcom to all who just ed us !!! ****** . hello part join part everyon join hey u95 join part hi u113 part join part join part i love each and everi one of yall U8 heyyyyyi hello welom to my room lmfao mike part i would dump you in cooki and cream part part with some cherri on toop of yall thi song ha gotta go part yawn what song . action fall asleep on the couch . we w ere just talk about jesu trial throught the desert and the temptat that pursu him goodby to romanc part u108 .. thi ai n't your room . too slow fo me one two three jesu love me . action is backfrontsidewaysandallaroundtheworld . is there a chat room here that deal with sport and fit or not three four Hi all doe anyon want to chat with a 23 f from ontario canada he love you more join sport ? <perk> hey u115 part hi hi u118 . action beat herself over the head with a bibl \" make it stop make it stop ! \" . join lol welcom to my room hey u38 hi u108 u108 ... we w ere just talk about jesu trial throught the desert and the temptat that pursu him yeah it call #prideisland type / #prideisland it all about the fit is a christian but is aggrav at denomin church lol u95 join u38 are you in welcom to black paradi make it go away ? join part hi u116 whi dontcha go and tri to find it for him u108 :-) . action set up hi altar to summon lucifug . welcom to my room hi U1 lol u65 fit my asss .... that the part i felt most after that workout lmao u65 we w ere just talk about jesu trial throught the desert and the temptat that pursu him hi again u39 what the shit is lucifug ? where you at . action eye the loser that seem to think he paid the registr fee for thi room . part lmao u53 part lol @ lucifug so , what have we disocv my children ? satan in my home ? lol join lmao u65 you mean lucif hi u120 where is your home welcom to my room in hell join or lucy-fur lol in iowa i presum join we were just talk about jesu trial throught the desert and the temptat that pursu him ok ugh . hello u102 do you not take privat messag hey u108 ... wrong room hi u120 part :P hi U7 lol hi U7 thank good lmao -s woooohoooo pleas do n't beat me ... with your bibl :) ahhhhhhhhhhhhhh final ! ok im back hi again u39 hey U7 front wb u28 part hey u92 if you dont beat me with your torah part wb u28 o.o teck n9ne is back homi part part dont fck with the torah U3 join chattanooga is an hour from me U7 thank U7 and u35 ( dahlin ) he 's the prime minist of hell googl it lol u95 omg U3 i would never do that .. i do n't chat religion dont fck with the bibl u95 kewl u39 join . action is never wrong . join well ..... join yep join well n oth join HI u56 do ani women wanna chat ? the worst that would happen is id get burn to the stake hey y' all part it goe both way dear hi u104 join join part ye , it doe go both way .. join and i know you dont u35 chica part part nice pic U7 ty u39 . action snore on the couch . i 'll dabbl in a tad of polit onc in awhil but nevah religion .. it 's too touchi a subject join yvw how have u been do u56 .. been awhil sinc chat join join where ever you go whatev you do ill be here wait for you veri much so practic have to put the room on moder for that but sport .. now that 's where i get the label \" hater \"... hmph !! part join tranc boi yep @ religion join part join mode #talkcity_adult + o u132 . 12 (((((.. 4 u132 .. 12 ))))) join mmm ... tast like chicken u132 !!! tatatatnanaantatat . 2 Hi u133 ! welcom to #talkcity_adult ! hey u132 HI u132 hiya u132 do u part do or die . action swing . join mmmmmmmmmmmmm love nick there lol join hey u132 ((((((((((( U3 ))))))))))))) mmmomom how come everyth tast like chicken but sometim chicken doesnt tast like chcken hey U1 !!! part hey jeff and u104 and u35 part seminilla parti at silver crib hey u30 !!!! part lol it 's the matrix , out of wack bring drink food is such a wonder thing u12 deop mode #talkcity_adult - o u132 part vodka brb .. popcorn is readi u132 : are you a man or a woman ? that depend if neysa 's cook it u102 part u30 ....... your like the walmart greeter .. onli time i see you type is when someon come in lol join join pack of ciggareet brb hi u12 you sexi bot join and ill bring da weeeeeeeeeeeeeeeeeeeeeeeeed part hahaha u28 ! join haha i love you join nite all should n't di the futur wife love u too i want you part nite u67 hey u116 ! . 2 Hi u31 ! welcom to #talkcity_adult ! part join no drug talk u91 I told her I wa gonna teach her how to cook .. turn her into the perfect lil housewif for ya . ani femal want to chat ? 25 m canada pm me u59 join . 12 (((((.. 4 u138 .. 12 ))))) so i hear u56 U1 u12 i want your bot lol ty U1 :D (((( U3 ))))) yw U3 part\n"
     ]
    }
   ],
   "source": [
    "#stemming the document-identifying stemms\n",
    "from nltk.stem import PorterStemmer\n",
    "stemmer = PorterStemmer()\n",
    "stemmedwords = [stemmer.stem(token) for token in str.split(\" \")]\n",
    "print(\"Stemmed document:\\n\")\n",
    "print(\" \".join(stemmedwords))"
   ]
  },
  {
   "cell_type": "code",
   "execution_count": null,
   "metadata": {},
   "outputs": [],
   "source": []
  }
 ],
 "metadata": {
  "kernelspec": {
   "display_name": "Python 3",
   "language": "python",
   "name": "python3"
  },
  "language_info": {
   "codemirror_mode": {
    "name": "ipython",
    "version": 3
   },
   "file_extension": ".py",
   "mimetype": "text/x-python",
   "name": "python",
   "nbconvert_exporter": "python",
   "pygments_lexer": "ipython3",
   "version": "3.6.9"
  }
 },
 "nbformat": 4,
 "nbformat_minor": 4
}
