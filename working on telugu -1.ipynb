{
 "cells": [
  {
   "cell_type": "code",
   "execution_count": 16,
   "metadata": {},
   "outputs": [],
   "source": [
    "# The path to the local git repo for Indic NLP library\n",
    "INDIC_NLP_LIB_HOME=r\"C:\\Users\\Ravi Teja\\nlp\\indic_nlp_library-master\"\n",
    "\n",
    "# The path to the local git repo for Indic NLP Resources\n",
    "INDIC_NLP_RESOURCES=r\"C:\\Users\\Ravi Teja\\nlp\\indic_nlp_resources-master\""
   ]
  },
  {
   "cell_type": "code",
   "execution_count": 18,
   "metadata": {},
   "outputs": [
    {
     "name": "stdout",
     "output_type": "stream",
     "text": [
      "ఆంధ్ర, తెలంగాణ రాష్ట్రాల అధికార భాష తెలుగు.\n",
      "భారత దేశంలో తెలుగు మాతృభాషగా మాట్లాడే 9 కోట్ల (2020) జనాభాతో ప్రాంతీయ భాషలలో మొదటి స్థానంలో ఉంది.\n",
      "ప్రపంచంలోని ప్రజలు అత్యధికముగా మాట్లాడే భాషలలో 15 స్థానములోనూ, భారత దేశములో హిందీ, తర్వాత స్థానములోనూ నిలుస్తుంది.\n"
     ]
    }
   ],
   "source": [
    "from indicnlp.tokenize import sentence_tokenize\n",
    "\n",
    "indic_string=\"\"\"ఆంధ్ర, తెలంగాణ రాష్ట్రాల అధికార భాష తెలుగు. భారత దేశంలో తెలుగు మాతృభాషగా మాట్లాడే 9 కోట్ల (2020) జనాభాతో ప్రాంతీయ భాషలలో మొదటి స్థానంలో ఉంది.ప్రపంచంలోని ప్రజలు అత్యధికముగా మాట్లాడే భాషలలో 15 స్థానములోనూ, భారత దేశములో హిందీ, తర్వాత స్థానములోనూ నిలుస్తుంది. \"\"\"\n",
    "\n",
    "# Split the sentence, language code \"tel\" is passed for telugu\n",
    "sentences=sentence_tokenize.sentence_split(indic_string, lang='tel')\n",
    "\n",
    "# print the sentences\n",
    "for t in sentences:\n",
    "    print(t)\n"
   ]
  },
  {
   "cell_type": "code",
   "execution_count": 23,
   "metadata": {},
   "outputs": [
    {
     "name": "stdout",
     "output_type": "stream",
     "text": [
      "మేరా ఆజ అంగ్రేజ఼ీ పఢ఼నే కా మన నహీం హై౤ \n"
     ]
    }
   ],
   "source": [
    "from indicnlp.transliterate.unicode_transliterate import UnicodeIndicTransliterator\n",
    "\n",
    "# Input text \"Today the weather is good. Sun is bright and there are no signs of rain. Hence we can play today.\"\n",
    "input_text='मेरा आज अंग्रेज़ी पढ़ने का मन नहीं है। '\n",
    "\n",
    "# Transliterate from Hindi to Telugu\n",
    "print(UnicodeIndicTransliterator.transliterate(input_text,\"hi\",\"te\"))"
   ]
  },
  {
   "cell_type": "code",
   "execution_count": 33,
   "metadata": {},
   "outputs": [
    {
     "name": "stdout",
     "output_type": "stream",
     "text": [
      "Input String: ఆంధ్ర, తెలంగాణ రాష్ట్రాల అధికార భాష తెలుగు.\n",
      "Tokens: \n",
      "ఆంధ్ర\n",
      ",\n",
      "తెలంగాణ\n",
      "రాష్ట్రాల\n",
      "అధికార\n",
      "భాష\n",
      "తెలుగు\n",
      ".\n"
     ]
    }
   ],
   "source": [
    "from indicnlp.tokenize import indic_tokenize  \n",
    "\n",
    "indic_string='ఆంధ్ర, తెలంగాణ రాష్ట్రాల అధికార భాష తెలుగు.'\n",
    "\n",
    "print('Input String: {}'.format(indic_string))\n",
    "print('Tokens: ')\n",
    "for t in indic_tokenize.trivial_tokenize(indic_string): \n",
    "    print(t)"
   ]
  },
  {
   "cell_type": "code",
   "execution_count": 34,
   "metadata": {},
   "outputs": [
    {
     "name": "stdout",
     "output_type": "stream",
     "text": [
      "Input String:  ఆంధ్ర , తెలంగాణ రాష్ట్రాల అధికార భాష తెలుగు .\n",
      "Detokenized String:  ఆంధ్ర, తెలంగాణ రాష్ట్రాల అధికార భాష తెలుగు.\n"
     ]
    }
   ],
   "source": [
    "from indicnlp.tokenize import indic_detokenize  \n",
    "indic_string=' ఆంధ్ర , తెలంగాణ రాష్ట్రాల అధికార భాష తెలుగు .'\n",
    "\n",
    "print('Input String: {}'.format(indic_string))\n",
    "print('Detokenized String: {}'.format(indic_detokenize.trivial_detokenize(indic_string,lang='tel')))"
   ]
  },
  {
   "cell_type": "code",
   "execution_count": 52,
   "metadata": {},
   "outputs": [
    {
     "name": "stdout",
     "output_type": "stream",
     "text": [
      "ఆంధ్ర\n"
     ]
    }
   ],
   "source": [
    "from indicnlp.transliterate.unicode_transliterate import ItransTransliterator\n",
    "input_text='ఆంధ్ర'\n",
    "# input_text='ஆசிரியர்கள்'\n",
    "lang='tel'\n",
    "\n",
    "print(ItransTransliterator.to_itrans(input_text,lang))\n"
   ]
  },
  {
   "cell_type": "code",
   "execution_count": null,
   "metadata": {},
   "outputs": [],
   "source": []
  },
  {
   "cell_type": "code",
   "execution_count": null,
   "metadata": {},
   "outputs": [],
   "source": [
    "\n"
   ]
  },
  {
   "cell_type": "code",
   "execution_count": null,
   "metadata": {},
   "outputs": [],
   "source": []
  }
 ],
 "metadata": {
  "kernelspec": {
   "display_name": "Python 3",
   "language": "python",
   "name": "python3"
  },
  "language_info": {
   "codemirror_mode": {
    "name": "ipython",
    "version": 3
   },
   "file_extension": ".py",
   "mimetype": "text/x-python",
   "name": "python",
   "nbconvert_exporter": "python",
   "pygments_lexer": "ipython3",
   "version": "3.6.9"
  }
 },
 "nbformat": 4,
 "nbformat_minor": 4
}
